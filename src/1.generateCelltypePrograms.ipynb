{
 "cells": [
  {
   "cell_type": "markdown",
   "metadata": {},
   "source": [
    "# Overview\n",
    "SNP annotations generated from these gene programs can be found [here](https://alkesgroup.broadinstitute.org/LDSCORE/Jagadeesh_Dey_sclinker/annotations/cell_type_programs/).\n",
    "\n",
    "Mapping between the single cell datasets and the SNP annotation folders are indicated by the scdatasets dictionary key. Each SNP annotation folder contains a subfolder for each cell type identified in the dataset. Each cell type folder contains a subfolder for SNP annotations generated from the 100KB, ABC-U-Roadmap all and ABC-U-Roadmap enhancer-gene linking strategies.\n"
   ]
  },
  {
   "cell_type": "code",
   "execution_count": null,
   "metadata": {},
   "outputs": [],
   "source": [
    "import scanpy as sc\n",
    "from collections import Counter\n",
    "import numpy as np\n",
    "import pandas as pd"
   ]
  },
  {
   "cell_type": "code",
   "execution_count": null,
   "metadata": {},
   "outputs": [],
   "source": [
    "filedir='/ahg/regevdata/projects/scgwas/data/singlecell/modules/healthy/celltypeenriched/'\n",
    "datapath='/ahg/regevdata/projects/scgwas/data/singlecell/'"
   ]
  },
  {
   "cell_type": "code",
   "execution_count": null,
   "metadata": {},
   "outputs": [],
   "source": [
    "def write_matrix(adata, filename, moduletype='celltype'):\n",
    "    # set up the ordering of genes and cells\n",
    "    #adata = adatas[filename]\n",
    "    genes = list(set(adata.var_names))\n",
    "    gene2idx = {gene:i for i, gene in enumerate(genes)}\n",
    "    \n",
    "    pvalmtxs, logfoldmtxs, scoremtxs = [], [], []\n",
    "    \n",
    "    #ctlabels = ['annot_level_2', 'annot_level_3']\n",
    "    ctlabels = ['cell_type']\n",
    "    print(adata.obs.columns)\n",
    "    print(ctlabels)\n",
    "    for ctlabel in ctlabels:\n",
    "        delabel = ctlabel + '_DE'\n",
    "        cellsubsets = adata.uns[delabel]['names'].dtype.fields.keys()\n",
    "        cell2idx = {cellsubset:i for i, cellsubset in enumerate(cellsubsets)}\n",
    "\n",
    "        # create empty matrix\n",
    "        pvalmtx = np.zeros((len(gene2idx), len(cell2idx)))\n",
    "\n",
    "        logfoldmtx = np.zeros((len(gene2idx), len(cell2idx)))\n",
    "        scoremtx = np.zeros((len(gene2idx), len(cell2idx)))\n",
    "\n",
    "        # loop through and fill up the matrix with pvalue, logfold and score\n",
    "        for gene, pval, logfold, score in zip(adata.uns[delabel]['names'], \n",
    "                                       adata.uns[delabel]['pvals_adj'], \n",
    "                                       adata.uns[delabel]['logfoldchanges'], \n",
    "                                       adata.uns[delabel]['scores']):\n",
    "            for cell_subset in cellsubsets:\n",
    "                if gene[cell_subset] in gene2idx:\n",
    "                    pvalmtx[gene2idx[gene[cell_subset]], cell2idx[cell_subset]] = pval[cell_subset]\n",
    "                    logfoldmtx[gene2idx[gene[cell_subset]], cell2idx[cell_subset]] = logfold[cell_subset]\n",
    "                    scoremtx[gene2idx[gene[cell_subset]], cell2idx[cell_subset]] = score[cell_subset]\n",
    "\n",
    "        # transform matrix to dataframe\n",
    "        level = ctlabel.split('_')[-1]\n",
    "        #+\"_L%s\"%level\n",
    "        cellsubsets = [ct+\"_L%s\"%level for ct in cellsubsets]\n",
    "        pvalmtxs.append(pd.DataFrame(pvalmtx, index=genes, columns=cellsubsets))\n",
    "        logfoldmtxs.append(pd.DataFrame(logfoldmtx, index=genes, columns=cellsubsets))\n",
    "        scoremtxs.append(pd.DataFrame(scoremtx, index=genes, columns=cellsubsets))\n",
    "    pvalmtxs = pd.concat(pvalmtxs, axis=1)\n",
    "    logfoldmtxs = pd.concat(logfoldmtxs, axis=1)\n",
    "    scoremtxs = pd.concat(scoremtxs, axis=1)\n",
    "\n",
    "\n",
    "    # write matrix to file\n",
    "    pvalmtxs.to_csv(\"%s/%s_pval.csv\"%(filedir, filename))\n",
    "    logfoldmtxs.to_csv(\"%s/%s_logfold.csv\"%(filedir, filename))\n",
    "    scoremtxs.to_csv(\"%s/%s_score.csv\"%(filedir, filename))"
   ]
  },
  {
   "cell_type": "code",
   "execution_count": null,
   "metadata": {},
   "outputs": [],
   "source": [
    "scdatasets = {\n",
    "    'zheng_pbmc' : (datapath + '/blood/pbmc/pbmc-processed-annotated.h5ad', 'sample_id'),\n",
    "    'krasnow_pbmc' : (datapath + '/lung/krasnow/pbmc-processed-annotated.h5ad', 'patient'),\n",
    "    'ICA_bonemarrow' : (datapath + '/blood/bonemarrow-processed-final.h5ad', 'donor_organism.provenance.document_id'),\n",
    "    'ICA_cordblood' : (datapath + '/blood/cordblood-processed-final.h5ad', 'donor_organism.provenance.document_id'),\n",
    "    'adipose' : (datapath + '/adipose/adipose-processed-final.h5ad', 'orig.ident'),\n",
    "    'alzheimers_brain' : (datapath + '/z_disease/alzheimers/healthy.h5ad', 'Subject'),\n",
    "    'brain' : (datapath + '/brain/allen/allenbraindata-processed.h5ad', 'external_donor_name_label'),\n",
    "    'idoamit_healthy' : (datapath + '/z_disease/covid/covid-healthy.h5ad', 'sample'),\n",
    "    'kropski_lung':(datapath + '/lung/healthykropski-annotated.h5ad', 'Sample_Name'),\n",
    "    'msbrain': (datapath + '/z_disease/multiplesclerosis/healthy-processed-annotated.h5ad', 'sample'),\n",
    "    'skin':(datapath + '/skin/healthypublicskindata-processed.h5ad', 'sample'),\n",
    "    'liver' : (datapath + '/liver/liver-processed-final.h5ad', 'orig.ident'),\n",
    "    'kidney' : (datapath + '/kidney/kidneyadata-processed.h5ad', 'Experiment'),\n",
    "    'heart' : (datapath + '/heart/heart-processed.h5ad', 'biological.individual'),\n",
    "    'xavier_colon' : (datapath + '/colon/healthydata.h5ad', 'subject'),\n",
    "    }"
   ]
  },
  {
   "cell_type": "code",
   "execution_count": null,
   "metadata": {},
   "outputs": [],
   "source": [
    "cell_counts = []\n",
    "cell_subsets = []\n",
    "patient_counts = []\n",
    "for tissue in scdatasets.keys():\n",
    "    filename, sample_label = scdatasets[tissue]\n",
    "    tissueadata = sc.read(filename)\n",
    "    print(tissue, tissueadata.shape[0], len(set(tissueadata.obs[sample_label])), len(set(tissueadata.obs['cell_type'])))\n",
    "    cell_counts.append(tissueadata.shape[0])\n",
    "    patient_counts.append(len(set(tissueadata.obs[sample_label])))\n",
    "    cell_subsets.append(len(set(tissueadata.obs['cell_type'])))\n",
    "print(sum(patient_counts))\n",
    "sum(cell_counts)\n",
    "sum(cell_subsets)\n",
    "#sc.pl.umap(tissueadata, color='annot_level_2', save=tissue+'.pdf')"
   ]
  },
  {
   "cell_type": "code",
   "execution_count": null,
   "metadata": {},
   "outputs": [],
   "source": [
    "adatas = {}"
   ]
  },
  {
   "cell_type": "code",
   "execution_count": null,
   "metadata": {},
   "outputs": [],
   "source": [
    "cell_counts = []\n",
    "for tissue in scdatasets.keys():\n",
    "    print(tissue)\n",
    "    filename, sampleid = scdatasets[tissue]\n",
    "    tissueadata = sc.read(filename)\n",
    "    cell_counts.append(tissueadata.shape[0])\n",
    "    \n",
    "    #for ctlabel in ['annot_level_2', 'annot_level_3']:\n",
    "    for ctlabel in ['cell_type']:\n",
    "        print(ctlabel)\n",
    "        counts = Counter(tissueadata.obs[ctlabel])\n",
    "        tissueadata.obs[ctlabel+'_counts'] = [counts[ct] for ct in tissueadata.obs[ctlabel]]\n",
    "        adata = tissueadata[tissueadata.obs[ctlabel+'_counts'] > 10].copy()\n",
    "        n_genes = adata.shape[1]\n",
    "        sc.tl.rank_genes_groups(adata, ctlabel, key_added=ctlabel+'_DE', use_raw=False, method='wilcoxon', n_genes=n_genes)\n",
    "        sc.pl.rank_genes_groups(adata, n_genes=25, key=ctlabel+'_DE', sharey=False)\n",
    "        tissueadata.uns[ctlabel+'_DE'] = adata.uns[ctlabel+'_DE']\n",
    "    #adatas[tissue] = tissueadata\n",
    "    write_matrix(tissueadata, tissue)\n",
    "    "
   ]
  },
  {
   "cell_type": "code",
   "execution_count": null,
   "metadata": {},
   "outputs": [],
   "source": []
  }
 ],
 "metadata": {
  "kernelspec": {
   "display_name": "Python (pegasus)",
   "language": "python",
   "name": "pegasus"
  },
  "language_info": {
   "codemirror_mode": {
    "name": "ipython",
    "version": 3
   },
   "file_extension": ".py",
   "mimetype": "text/x-python",
   "name": "python",
   "nbconvert_exporter": "python",
   "pygments_lexer": "ipython3",
   "version": "3.8.0"
  }
 },
 "nbformat": 4,
 "nbformat_minor": 2
}
