{
 "cells": [
  {
   "cell_type": "code",
   "execution_count": 1,
   "metadata": {},
   "outputs": [],
   "source": [
    "%load_ext autoreload\n",
    "%autoreload 2\n",
    "\n",
    "import jointNMF\n",
    "import numpy as np\n"
   ]
  },
  {
   "cell_type": "code",
   "execution_count": 38,
   "metadata": {},
   "outputs": [],
   "source": [
    "Wh = np.random.randint(0, high=5, size=(1000,10))\n",
    "Hh = np.random.randint(0, high=5, size=(10,10000))\n",
    "\n",
    "Wshh = np.random.randint(0, high=5, size=(1000,10))\n",
    "Hshh = np.random.randint(0, high=5, size=(10,10000))\n",
    "\n",
    "Wshd = Wshh\n",
    "Hshd = Hshh\n",
    "\n",
    "Wd = np.random.randint(0, high=5, size=(1000,10))\n",
    "Hd = np.random.randint(0, high=5, size=(10,10000))\n",
    "\n",
    "\n",
    "Xh = np.dot(Wh, Hh) + np.dot(Wshh, Hshh) + np.random.randn(1000,10000)*0.001\n",
    "Xd = np.dot(Wd, Hd) + np.dot(Wshd, Hshd) + np.random.randn(1000,10000)*0.001"
   ]
  },
  {
   "cell_type": "code",
   "execution_count": 39,
   "metadata": {},
   "outputs": [],
   "source": [
    "model = jointNMF.JointNMF(Xh, Xd, gamma=20, mu=.1)"
   ]
  },
  {
   "cell_type": "code",
   "execution_count": 40,
   "metadata": {},
   "outputs": [
    {
     "data": {
      "text/plain": [
       "(1.5872570845844276, 1.5808869401949888)"
      ]
     },
     "execution_count": 40,
     "metadata": {},
     "output_type": "execute_result"
    }
   ],
   "source": [
    "np.mean(model.Wshh), np.mean(model.Wshd)"
   ]
  },
  {
   "cell_type": "code",
   "execution_count": 41,
   "metadata": {},
   "outputs": [
    {
     "name": "stdout",
     "output_type": "stream",
     "text": [
      "Current Chi2=63690233379.5551, Previous Chi2=14301815213.4951, Change=-345.3297% @ niters=0\n",
      "Current Chi2=66546384033.6268, Previous Chi2=66518049219.6682, Change=-0.0426% @ niters=20\n",
      "Current Chi2=66831725395.0094, Previous Chi2=66824257588.3380, Change=-0.0112% @ niters=40\n",
      "Current Chi2=66925459482.3774, Previous Chi2=66922487158.8552, Change=-0.0044% @ niters=60\n",
      "Current Chi2=66964419256.7202, Previous Chi2=66963206955.4264, Change=-0.0018% @ niters=80\n",
      "Current Chi2=66976754353.2171, Previous Chi2=66976633273.1506, Change=-0.0002% @ niters=100\n",
      "Current Chi2=66968862726.9555, Previous Chi2=66969722574.6450, Change=0.0013% @ niters=120\n",
      "Current Chi2=66941806223.6369, Previous Chi2=66943573601.7263, Change=0.0026% @ niters=140\n"
     ]
    },
    {
     "ename": "KeyboardInterrupt",
     "evalue": "",
     "output_type": "error",
     "traceback": [
      "\u001b[0;31m---------------------------------------------------------------------------\u001b[0m",
      "\u001b[0;31mKeyboardInterrupt\u001b[0m                         Traceback (most recent call last)",
      "\u001b[0;32m<ipython-input-41-8710f032d6e5>\u001b[0m in \u001b[0;36m<module>\u001b[0;34m\u001b[0m\n\u001b[0;32m----> 1\u001b[0;31m \u001b[0mmodel\u001b[0m\u001b[0;34m.\u001b[0m\u001b[0msolve\u001b[0m\u001b[0;34m(\u001b[0m\u001b[0;34m)\u001b[0m\u001b[0;34m\u001b[0m\u001b[0;34m\u001b[0m\u001b[0m\n\u001b[0m",
      "\u001b[0;32m/ahg/regevdata/projects/scgwas/src/ldsc/jointNMF.py\u001b[0m in \u001b[0;36msolve\u001b[0;34m(self, W_only, H_only, sparsemode, maxiters, tol)\u001b[0m\n\u001b[1;32m    138\u001b[0m \u001b[0;34m\u001b[0m\u001b[0m\n\u001b[1;32m    139\u001b[0m             \u001b[0;31m# update Hshh\u001b[0m\u001b[0;34m\u001b[0m\u001b[0;34m\u001b[0m\u001b[0;34m\u001b[0m\u001b[0m\n\u001b[0;32m--> 140\u001b[0;31m             \u001b[0mHshh_up\u001b[0m \u001b[0;34m=\u001b[0m \u001b[0mnp\u001b[0m\u001b[0;34m.\u001b[0m\u001b[0mdot\u001b[0m\u001b[0;34m(\u001b[0m\u001b[0mself\u001b[0m\u001b[0;34m.\u001b[0m\u001b[0mWshh\u001b[0m\u001b[0;34m.\u001b[0m\u001b[0mT\u001b[0m\u001b[0;34m,\u001b[0m \u001b[0mself\u001b[0m\u001b[0;34m.\u001b[0m\u001b[0mXh\u001b[0m\u001b[0;34m)\u001b[0m\u001b[0;34m\u001b[0m\u001b[0;34m\u001b[0m\u001b[0m\n\u001b[0m\u001b[1;32m    141\u001b[0m             \u001b[0mHshh_down\u001b[0m \u001b[0;34m=\u001b[0m \u001b[0mnp\u001b[0m\u001b[0;34m.\u001b[0m\u001b[0mdot\u001b[0m\u001b[0;34m(\u001b[0m\u001b[0mnp\u001b[0m\u001b[0;34m.\u001b[0m\u001b[0mdot\u001b[0m\u001b[0;34m(\u001b[0m\u001b[0mself\u001b[0m\u001b[0;34m.\u001b[0m\u001b[0mWshh\u001b[0m\u001b[0;34m.\u001b[0m\u001b[0mT\u001b[0m\u001b[0;34m,\u001b[0m \u001b[0mself\u001b[0m\u001b[0;34m.\u001b[0m\u001b[0mWshh\u001b[0m\u001b[0;34m)\u001b[0m\u001b[0;34m,\u001b[0m \u001b[0mself\u001b[0m\u001b[0;34m.\u001b[0m\u001b[0mHshh\u001b[0m\u001b[0;34m)\u001b[0m \u001b[0;34m+\u001b[0m \u001b[0m_smallnumber2\u001b[0m\u001b[0;34m\u001b[0m\u001b[0;34m\u001b[0m\u001b[0m\n\u001b[1;32m    142\u001b[0m             \u001b[0mself\u001b[0m\u001b[0;34m.\u001b[0m\u001b[0mHshh\u001b[0m \u001b[0;34m=\u001b[0m \u001b[0mself\u001b[0m\u001b[0;34m.\u001b[0m\u001b[0mHshh\u001b[0m\u001b[0;34m*\u001b[0m\u001b[0mHshh_up\u001b[0m\u001b[0;34m/\u001b[0m\u001b[0mHshh_down\u001b[0m\u001b[0;34m\u001b[0m\u001b[0;34m\u001b[0m\u001b[0m\n",
      "\u001b[0;32m<__array_function__ internals>\u001b[0m in \u001b[0;36mdot\u001b[0;34m(*args, **kwargs)\u001b[0m\n",
      "\u001b[0;31mKeyboardInterrupt\u001b[0m: "
     ]
    }
   ],
   "source": [
    "model.solve()"
   ]
  },
  {
   "cell_type": "code",
   "execution_count": 34,
   "metadata": {},
   "outputs": [
    {
     "data": {
      "text/plain": [
       "157.62752711928619"
      ]
     },
     "execution_count": 34,
     "metadata": {},
     "output_type": "execute_result"
    }
   ],
   "source": [
    "np.mean(np.dot(model.Wh, model.Hh) + np.dot(model.Wshh, model.Hshh))"
   ]
  },
  {
   "cell_type": "code",
   "execution_count": 35,
   "metadata": {},
   "outputs": [
    {
     "data": {
      "text/plain": [
       "1318046544.625706"
      ]
     },
     "execution_count": 35,
     "metadata": {},
     "output_type": "execute_result"
    }
   ],
   "source": [
    "model.cost"
   ]
  },
  {
   "cell_type": "code",
   "execution_count": 36,
   "metadata": {},
   "outputs": [
    {
     "data": {
      "text/plain": [
       "15760122.091793733"
      ]
     },
     "execution_count": 36,
     "metadata": {},
     "output_type": "execute_result"
    }
   ],
   "source": [
    "np.sum(model.Xh -np.dot(model.Wh, model.Hh) + np.dot(model.Wshh, model.Hshh))"
   ]
  },
  {
   "cell_type": "code",
   "execution_count": 42,
   "metadata": {},
   "outputs": [
    {
     "name": "stdout",
     "output_type": "stream",
     "text": [
      "0 0 0.2260359740384122\n",
      "0 1 0.22866939795099592\n",
      "0 2 0.10121027069000796\n",
      "0 3 0.22730030356085187\n",
      "0 4 0.08958763645651668\n",
      "0 5 0.3190368725913357\n",
      "0 6 0.38539000619328817\n",
      "0 7 0.2259878906102182\n",
      "0 8 0.07435423597672865\n",
      "0 9 0.03341841310232727\n",
      "1 0 0.2637411488593642\n",
      "1 1 0.09750964521343278\n",
      "1 2 -0.051210927277770844\n",
      "1 3 0.12818846628151237\n",
      "1 4 0.029949111749714513\n",
      "1 5 0.23308061721885734\n",
      "1 6 0.22439857667422353\n",
      "1 7 0.16128832485057648\n",
      "1 8 -0.03680733762570577\n",
      "1 9 -0.01880915180551114\n",
      "2 0 0.04450162598037893\n",
      "2 1 0.028420625032668213\n",
      "2 2 0.13807711473549522\n",
      "2 3 -0.2373535957074532\n",
      "2 4 0.2074477238488325\n",
      "2 5 0.12805882676556202\n",
      "2 6 0.06519160711932541\n",
      "2 7 0.16507223444701408\n",
      "2 8 0.1503260210113575\n",
      "2 9 0.10969815772007312\n",
      "3 0 0.1757023453663655\n",
      "3 1 0.11905131524192253\n",
      "3 2 0.15559479016668762\n",
      "3 3 0.09789760693061199\n",
      "3 4 0.1963760453172403\n",
      "3 5 0.23310620612217378\n",
      "3 6 0.2866798356950466\n",
      "3 7 0.1986552763262473\n",
      "3 8 0.05690423393386622\n",
      "3 9 0.07739653590828464\n",
      "4 0 0.1165401337536935\n",
      "4 1 -0.040155625134212225\n",
      "4 2 0.27777601104293825\n",
      "4 3 0.010707551695991302\n",
      "4 4 0.14277966121905086\n",
      "4 5 0.0065461540069569535\n",
      "4 6 0.06208479418036341\n",
      "4 7 0.13942968492502908\n",
      "4 8 0.0999494828967719\n",
      "4 9 -0.01858158706242719\n",
      "5 0 0.14049084412491478\n",
      "5 1 0.16684535966873015\n",
      "5 2 0.09289450518362313\n",
      "5 3 0.023421475629039686\n",
      "5 4 0.1970509484388148\n",
      "5 5 0.19441359399189578\n",
      "5 6 0.0939350900201174\n",
      "5 7 0.100695962516007\n",
      "5 8 0.03410809211528965\n",
      "5 9 0.0846892258104144\n",
      "6 0 0.14759185909729328\n",
      "6 1 0.029141032172676298\n",
      "6 2 0.27264025217822896\n",
      "6 3 0.1266169296600249\n",
      "6 4 0.013467236459082604\n",
      "6 5 0.1971535482354452\n",
      "6 6 0.09461949399552125\n",
      "6 7 0.062088108818263606\n",
      "6 8 -0.006199110677106241\n",
      "6 9 -0.12214254203209635\n",
      "7 0 0.04339172817281874\n",
      "7 1 0.1749492180483902\n",
      "7 2 0.035511681991490296\n",
      "7 3 0.19981951439200055\n",
      "7 4 0.00788665414227066\n",
      "7 5 0.2335060856425897\n",
      "7 6 0.15608011271461605\n",
      "7 7 0.05228370176504094\n",
      "7 8 0.10378630516456924\n",
      "7 9 -0.10605767611643108\n",
      "8 0 0.047831356012896065\n",
      "8 1 0.16567646901130245\n",
      "8 2 0.019782250134541005\n",
      "8 3 0.04643361174990248\n",
      "8 4 0.03712344896196799\n",
      "8 5 0.13397931885331635\n",
      "8 6 -0.038657953183523094\n",
      "8 7 -0.017571659847505448\n",
      "8 8 0.060020614970910935\n",
      "8 9 0.03125954236356796\n",
      "9 0 0.09238651221069091\n",
      "9 1 0.17107172775862425\n",
      "9 2 0.023675252561068425\n",
      "9 3 0.05549567908601222\n",
      "9 4 0.08616315101571854\n",
      "9 5 -0.06027091700837308\n",
      "9 6 -0.0445354303581506\n",
      "9 7 0.0470680175376842\n",
      "9 8 -0.0032610314729201724\n",
      "9 9 0.178798801486255\n"
     ]
    }
   ],
   "source": [
    "for i in range(Wshh.shape[1]):\n",
    "    for j in range(Wshh.shape[1]):\n",
    "        print(i, j, np.corrcoef(model.Wshh[:,i], model.Wshd[:,j])[0][1])"
   ]
  },
  {
   "cell_type": "code",
   "execution_count": null,
   "metadata": {},
   "outputs": [],
   "source": []
  }
 ],
 "metadata": {
  "kernelspec": {
   "display_name": "Python (kjag)",
   "language": "python",
   "name": "kjag"
  },
  "language_info": {
   "codemirror_mode": {
    "name": "ipython",
    "version": 3
   },
   "file_extension": ".py",
   "mimetype": "text/x-python",
   "name": "python",
   "nbconvert_exporter": "python",
   "pygments_lexer": "ipython3",
   "version": "3.7.3"
  }
 },
 "nbformat": 4,
 "nbformat_minor": 2
}
