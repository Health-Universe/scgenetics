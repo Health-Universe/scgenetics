{
 "cells": [
  {
   "cell_type": "code",
   "execution_count": 292,
   "metadata": {},
   "outputs": [],
   "source": [
    "import jointNMF\n",
    "import numpy as np\n",
    "import scipy\n",
    "from scipy import sparse as sp\n",
    "from scipy import stats\n",
    "from sklearn.decomposition import NMF\n",
    "from sklearn.utils.extmath import safe_sparse_dot"
   ]
  },
  {
   "cell_type": "code",
   "execution_count": 293,
   "metadata": {},
   "outputs": [],
   "source": [
    "class CustomRandomState(np.random.RandomState):\n",
    "    def randint(self, k):\n",
    "        i = np.random.randint(k)\n",
    "        return i - i % 2"
   ]
  },
  {
   "cell_type": "code",
   "execution_count": 294,
   "metadata": {},
   "outputs": [],
   "source": [
    "Nsamples=6000\n",
    "Nfeatures=2000\n",
    "\n",
    "np.random.seed(12345)\n",
    "rs = CustomRandomState()\n",
    "rvs = stats.poisson(10, loc=3).rvs\n",
    "\n",
    "num_shared_components=5\n",
    "num_healthy_components=10\n",
    "num_disease_components=10"
   ]
  },
  {
   "cell_type": "code",
   "execution_count": 295,
   "metadata": {},
   "outputs": [],
   "source": [
    "Wh = sparse.random(Nsamples, num_healthy_components+num_shared_components, density=0.1, random_state=rs, data_rvs=rvs).tocsr()\n",
    "Hh = sparse.random(num_healthy_components+num_shared_components, Nfeatures, density=0.1, random_state=rs, data_rvs=rvs).tocsr()\n",
    "Hh = Hh/np.max(Hh)\n",
    "\n",
    "Wd = sparse.random(Nsamples, num_healthy_components+num_shared_components, density=0.1, random_state=rs, data_rvs=rvs).tocsr()\n",
    "Wd = Wd/np.max(Wd)\n",
    "Hd = sparse.random(num_healthy_components+num_shared_components, Nfeatures, density=0.1, random_state=rs, data_rvs=rvs).tocsr()\n",
    "Hd = Hd/np.max(Hd)\n",
    "\n",
    "Wd[:,:num_shared_components] = Wh[:,:num_shared_components]\n",
    "\n",
    "Xh = safe_sparse_dot(Wh, Hh) #+ np.random.randn(Nsamples, Nfeatures)*0.001\n",
    "Xd = safe_sparse_dot(Wd, Hd) #+ np.random.randn(Nsamples, Nfeatures)*0.001\n",
    "Xh = np.abs(Xh)\n",
    "Xd = np.abs(Xd)"
   ]
  },
  {
   "cell_type": "code",
   "execution_count": 296,
   "metadata": {},
   "outputs": [
    {
     "data": {
      "text/plain": [
       "((6000, 15), (6000, 15), (15, 2000), (15, 2000))"
      ]
     },
     "execution_count": 296,
     "metadata": {},
     "output_type": "execute_result"
    }
   ],
   "source": [
    "Wd.shape, Wh.shape, Hh.shape, Hd.shape"
   ]
  },
  {
   "cell_type": "code",
   "execution_count": 297,
   "metadata": {},
   "outputs": [],
   "source": [
    "model = jointNMF.JointNMF(Xh, Xd, gamma=50, mu=0.1, \n",
    "                          nsh_components=num_shared_components, \n",
    "                          nh_components=num_healthy_components,\n",
    "                          nd_components=num_disease_components)"
   ]
  },
  {
   "cell_type": "code",
   "execution_count": 298,
   "metadata": {},
   "outputs": [
    {
     "data": {
      "text/plain": [
       "array([[2.39814340e-01, 0.00000000e+00, 0.00000000e+00, ...,\n",
       "        3.70929313e-06, 0.00000000e+00, 0.00000000e+00],\n",
       "       [0.00000000e+00, 0.00000000e+00, 0.00000000e+00, ...,\n",
       "        0.00000000e+00, 0.00000000e+00, 0.00000000e+00],\n",
       "       [2.19828051e-01, 0.00000000e+00, 0.00000000e+00, ...,\n",
       "        4.36837605e-01, 0.00000000e+00, 5.62263197e-07],\n",
       "       ...,\n",
       "       [0.00000000e+00, 0.00000000e+00, 0.00000000e+00, ...,\n",
       "        0.00000000e+00, 0.00000000e+00, 0.00000000e+00],\n",
       "       [0.00000000e+00, 0.00000000e+00, 0.00000000e+00, ...,\n",
       "        4.58523046e-07, 3.83303425e-01, 5.33405393e-01],\n",
       "       [0.00000000e+00, 0.00000000e+00, 0.00000000e+00, ...,\n",
       "        0.00000000e+00, 0.00000000e+00, 0.00000000e+00]])"
      ]
     },
     "execution_count": 298,
     "metadata": {},
     "output_type": "execute_result"
    }
   ],
   "source": [
    "model.Wh.toarray()"
   ]
  },
  {
   "cell_type": "code",
   "execution_count": 299,
   "metadata": {},
   "outputs": [],
   "source": [
    "nsh_components=num_shared_components\n",
    "nh_components=num_healthy_components\n",
    "nd_components=num_disease_components\n",
    "nmfh = NMF(n_components = nsh_components + nh_components)\n",
    "nmfd = NMF(n_components = nsh_components + nd_components)\n",
    "\n",
    "model.Wh = scipy.sparse.csr_matrix(nmfh.fit_transform(Xh))\n",
    "model.Hh = scipy.sparse.csr_matrix(nmfh.components_)\n",
    "\n",
    "model.Wd = scipy.sparse.csr_matrix(nmfd.fit_transform(Xd))\n",
    "model.Hd = scipy.sparse.csr_matrix(nmfd.components_)\n",
    "\n",
    "model.maxiters = 1000\n",
    "model.tol = 1E-06\n",
    "model.gamma = 50\n",
    "model.mu=0.5\n",
    "model.Xh = scipy.sparse.csr_matrix(Xh).copy()\n",
    "model.Xd = scipy.sparse.csr_matrix(Xd).copy()"
   ]
  },
  {
   "cell_type": "code",
   "execution_count": 300,
   "metadata": {},
   "outputs": [
    {
     "data": {
      "text/plain": [
       "(<6000x15 sparse matrix of type '<class 'numpy.float64'>'\n",
       " \twith 15985 stored elements in Compressed Sparse Row format>,\n",
       " <6000x2000 sparse matrix of type '<class 'numpy.float64'>'\n",
       " \twith 1581555 stored elements in Compressed Sparse Row format>)"
      ]
     },
     "execution_count": 300,
     "metadata": {},
     "output_type": "execute_result"
    }
   ],
   "source": [
    "model.Wd, Xh"
   ]
  },
  {
   "cell_type": "code",
   "execution_count": 301,
   "metadata": {},
   "outputs": [],
   "source": [
    "scale2=np.append((model.gamma+model.mu)*np.ones(nsh_components), (model.mu)*np.ones(nh_components))\n",
    "scale2\n",
    "model.Wshd = model.Wd[:,:nsh_components]\n",
    "Wh_up1 = safe_sparse_dot(model.Xh, model.Hh.T)"
   ]
  },
  {
   "cell_type": "code",
   "execution_count": 302,
   "metadata": {},
   "outputs": [],
   "source": [
    "scale2=np.append((model.gamma+model.mu)*np.ones(nsh_components), (model.mu)*np.ones(nh_components))\n",
    "model.Wshd = model.Wd[:,:nsh_components]\n",
    "Wh_up1 = safe_sparse_dot(model.Xh, model.Hh.T)\n",
    "Wshd_transform = model.Wshd.multiply(scipy.sparse.csr_matrix(model.gamma*np.ones((model.Xh.shape[0], nsh_components))))\n",
    "zeros = scipy.sparse.csr_matrix(np.zeros((model.Xh.shape[0], nh_components)))\n",
    "Wh_up2 = scipy.sparse.hstack((Wshd_transform, zeros)) #+ _smallnumber2\n",
    "Wh_down = safe_sparse_dot(model.Wh, safe_sparse_dot(model.Hh, model.Hh.T)) + safe_sparse_dot(model.Wh, np.diag(scale2)) #+ _smallnumber2\n",
    "Wh_temp = model.Wh.multiply((Wh_up1 + Wh_up2)/Wh_down).tocsr() "
   ]
  },
  {
   "cell_type": "code",
   "execution_count": 303,
   "metadata": {},
   "outputs": [],
   "source": [
    "_smallnumber2 = 1E-06\n",
    "model.Wd.array = model.Wd.toarray()\n",
    "model.Wh.array = model.Wh.toarray()\n",
    "model.Xh.array = model.Xh.toarray()\n",
    "model.Hh.array = model.Hh.toarray()\n",
    "\n",
    "model.Wshd.array = model.Wd.array[:,:nsh_components]\n",
    "Wh_up = np.dot(model.Xh.array, model.Hh.array.T) + \\\n",
    "        np.append(model.Wshd.array * (model.gamma*np.ones((model.Xh.array.shape[0], nsh_components))), \\\n",
    "        np.zeros((model.Xh.array.shape[0], nh_components)), 1) + _smallnumber2 \n",
    "Wh_down = np.dot(model.Wh.array, np.dot(model.Hh.array, model.Hh.array.T)) + \\\n",
    "            np.dot(model.Wh.array, np.diag(scale2)) + _smallnumber2 \n",
    "Wh_temp2 = model.Wh.array*(Wh_up/Wh_down)"
   ]
  },
  {
   "cell_type": "code",
   "execution_count": 304,
   "metadata": {},
   "outputs": [
    {
     "data": {
      "text/plain": [
       "(array([[1.98490694e-01, 0.00000000e+00, 0.00000000e+00, ...,\n",
       "         3.70923270e-06, 0.00000000e+00, 0.00000000e+00],\n",
       "        [0.00000000e+00, 0.00000000e+00, 0.00000000e+00, ...,\n",
       "         0.00000000e+00, 0.00000000e+00, 0.00000000e+00],\n",
       "        [1.93082957e-01, 0.00000000e+00, 0.00000000e+00, ...,\n",
       "         4.35242504e-01, 0.00000000e+00, 5.62261572e-07],\n",
       "        ...,\n",
       "        [0.00000000e+00, 0.00000000e+00, 0.00000000e+00, ...,\n",
       "         0.00000000e+00, 0.00000000e+00, 0.00000000e+00],\n",
       "        [0.00000000e+00, 0.00000000e+00, 0.00000000e+00, ...,\n",
       "         4.58521174e-07, 3.81476143e-01, 5.29900571e-01],\n",
       "        [0.00000000e+00, 0.00000000e+00, 0.00000000e+00, ...,\n",
       "         0.00000000e+00, 0.00000000e+00, 0.00000000e+00]]),\n",
       " array([[1.98490695e-01, 0.00000000e+00, 0.00000000e+00, ...,\n",
       "         3.70923270e-06, 0.00000000e+00, 0.00000000e+00],\n",
       "        [0.00000000e+00, 0.00000000e+00, 0.00000000e+00, ...,\n",
       "         0.00000000e+00, 0.00000000e+00, 0.00000000e+00],\n",
       "        [1.93082957e-01, 0.00000000e+00, 0.00000000e+00, ...,\n",
       "         4.35242505e-01, 0.00000000e+00, 5.62261572e-07],\n",
       "        ...,\n",
       "        [0.00000000e+00, 0.00000000e+00, 0.00000000e+00, ...,\n",
       "         0.00000000e+00, 0.00000000e+00, 0.00000000e+00],\n",
       "        [0.00000000e+00, 0.00000000e+00, 0.00000000e+00, ...,\n",
       "         4.58521174e-07, 3.81476143e-01, 5.29900571e-01],\n",
       "        [0.00000000e+00, 0.00000000e+00, 0.00000000e+00, ...,\n",
       "         0.00000000e+00, 0.00000000e+00, 0.00000000e+00]]))"
      ]
     },
     "execution_count": 304,
     "metadata": {},
     "output_type": "execute_result"
    }
   ],
   "source": [
    "Wh_temp.toarray(), Wh_temp2"
   ]
  },
  {
   "cell_type": "code",
   "execution_count": 305,
   "metadata": {},
   "outputs": [
    {
     "data": {
      "text/plain": [
       "(3.3668366428152297e-09, -5.130659119778613e-09)"
      ]
     },
     "execution_count": 305,
     "metadata": {},
     "output_type": "execute_result"
    }
   ],
   "source": [
    "np.max(Wh_temp2 - Wh_temp), np.min(Wh_temp2 - Wh_temp)"
   ]
  },
  {
   "cell_type": "code",
   "execution_count": 306,
   "metadata": {},
   "outputs": [],
   "source": [
    "Hh_up = safe_sparse_dot(model.Wh.T, model.Xh) #+ _smallnumber2\n",
    "Hh_down = safe_sparse_dot(safe_sparse_dot(model.Wh.T, model.Wh), model.Hh) #+ _smallnumber2\n",
    "Hh_temp = model.Hh.multiply(Hh_up/Hh_down).tocsr()"
   ]
  },
  {
   "cell_type": "code",
   "execution_count": 307,
   "metadata": {},
   "outputs": [],
   "source": [
    "Hh_up = np.dot(model.Wh.array.T, model.Xh.array) + _smallnumber2 \n",
    "Hh_down = np.dot(np.dot(model.Wh.array.T, model.Wh.array), model.Hh.array)  + _smallnumber2 \n",
    "Hh_temp2 = model.Hh.array*(Hh_up/Hh_down)"
   ]
  },
  {
   "cell_type": "code",
   "execution_count": 308,
   "metadata": {},
   "outputs": [
    {
     "data": {
      "text/plain": [
       "(6.672440377997191e-14, -1.1313172620930345e-13)"
      ]
     },
     "execution_count": 308,
     "metadata": {},
     "output_type": "execute_result"
    }
   ],
   "source": [
    "np.max(Hh_temp2 - Hh_temp), np.min(Hh_temp2 - Hh_temp)"
   ]
  },
  {
   "cell_type": "code",
   "execution_count": 313,
   "metadata": {},
   "outputs": [
    {
     "data": {
      "text/plain": [
       "(16936.13700859847,\n",
       " 7.577304680324081e-06,\n",
       " 5.840001328046725e-06,\n",
       " 711.2542196709505,\n",
       " 16224.882775510216,\n",
       " 363.7036678711697,\n",
       " 9.321353868936916)"
      ]
     },
     "execution_count": 313,
     "metadata": {},
     "output_type": "execute_result"
    }
   ],
   "source": [
    "diff1 = 0.5*sparse.linalg.norm(model.Xh - safe_sparse_dot(model.Wh, model.Hh), ord='fro')**2\n",
    "diff2 = 0.5*sparse.linalg.norm(model.Xd - safe_sparse_dot(model.Wd, model.Hd), ord='fro')**2\n",
    "diff3 = (model.mu/2)*(sparse.linalg.norm(model.Wh, ord='fro')**2) + (model.mu/2)*(sparse.linalg.norm(model.Wd, ord='fro')**2)\n",
    "model.Wshh = model.Wh[:,:nsh_components]\n",
    "model.Wshd = model.Wd[:,:nsh_components]\n",
    "diff4 = (model.gamma/2)*sparse.linalg.norm(model.Wshh-model.Wshd, ord='fro')**2\n",
    "chi2 = diff1 + diff2 + diff3 + diff4\n",
    "chi2, diff1, diff2, diff3, diff4, ((model.mu/2)*sparse.linalg.norm(model.Wh, ord='fro')**2), (model.mu/2)*(sparse.linalg.norm(model.Wd, ord='fro'))"
   ]
  },
  {
   "cell_type": "code",
   "execution_count": 314,
   "metadata": {},
   "outputs": [
    {
     "data": {
      "text/plain": [
       "(16936.13700859847,\n",
       " 7.577304680324254e-06,\n",
       " 5.840001328046614e-06,\n",
       " 711.2542196709508,\n",
       " 16224.882775510216,\n",
       " 363.7036678711699,\n",
       " 347.5505517997808)"
      ]
     },
     "execution_count": 314,
     "metadata": {},
     "output_type": "execute_result"
    }
   ],
   "source": [
    "diff1 = 0.5*np.linalg.norm(model.Xh - np.dot(model.Wh.toarray(), model.Hh.toarray()), ord='fro')**2\n",
    "diff2 = 0.5*np.linalg.norm(model.Xd - np.dot(model.Wd.toarray(), model.Hd.toarray()), ord='fro')**2\n",
    "diff3 = (model.mu/2)*(np.linalg.norm(model.Wh.toarray(), ord='fro')**2) + (model.mu/2)*(np.linalg.norm(model.Wd.toarray(), ord='fro')**2)\n",
    "diff4 = model.gamma/2*np.linalg.norm(model.Wshh.toarray()-model.Wshd.toarray(), ord='fro')**2\n",
    "chi2 = diff1 + diff2 + diff3 + diff4 \n",
    "chi2, diff1, diff2, diff3, diff4, (model.mu/2)*(np.linalg.norm(model.Wh.toarray(), ord='fro')**2), (model.mu/2)*(np.linalg.norm(model.Wd.toarray(), ord='fro')**2)"
   ]
  },
  {
   "cell_type": "code",
   "execution_count": null,
   "metadata": {},
   "outputs": [],
   "source": []
  }
 ],
 "metadata": {
  "kernelspec": {
   "display_name": "Python [conda env:kipoi-shared__envs__kipoi-py3-keras2]",
   "language": "python",
   "name": "conda-env-kipoi-shared__envs__kipoi-py3-keras2-py"
  },
  "language_info": {
   "codemirror_mode": {
    "name": "ipython",
    "version": 3
   },
   "file_extension": ".py",
   "mimetype": "text/x-python",
   "name": "python",
   "nbconvert_exporter": "python",
   "pygments_lexer": "ipython3",
   "version": "3.6.6"
  }
 },
 "nbformat": 4,
 "nbformat_minor": 2
}
