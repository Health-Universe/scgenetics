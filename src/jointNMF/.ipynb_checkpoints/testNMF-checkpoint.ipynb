{
 "cells": [
  {
   "cell_type": "code",
   "execution_count": 1,
   "metadata": {},
   "outputs": [],
   "source": [
    "%load_ext autoreload\n",
    "%autoreload 2\n",
    "\n",
    "import jointNMF\n",
    "import numpy as np\n",
    "from scipy import sparse\n",
    "from scipy import stats\n",
    "from sklearn.decomposition import NMF\n",
    "from sklearn.utils.extmath import safe_sparse_dot"
   ]
  },
  {
   "cell_type": "markdown",
   "metadata": {},
   "source": [
    "# TODO items\n",
    "0. take a look at smaller examples to see if it works\n",
    "1. make everything sparse (use sparse matrix as much as possible)\n",
    "2. for initialization run 10 times and pick the best initialization\n",
    "3. put option to make mu use specified"
   ]
  },
  {
   "cell_type": "code",
   "execution_count": 2,
   "metadata": {},
   "outputs": [],
   "source": [
    "class CustomRandomState(np.random.RandomState):\n",
    "    def randint(self, k):\n",
    "        i = np.random.randint(k)\n",
    "        return i - i % 2"
   ]
  },
  {
   "cell_type": "code",
   "execution_count": 3,
   "metadata": {},
   "outputs": [],
   "source": [
    "Nsamples=6000\n",
    "Nfeatures=2000\n",
    "\n",
    "np.random.seed(12345)\n",
    "rs = CustomRandomState()\n",
    "rvs = stats.poisson(10, loc=10).rvs\n",
    "\n",
    "num_shared_components=10\n",
    "num_healthy_components=10\n",
    "num_disease_components=10"
   ]
  },
  {
   "cell_type": "code",
   "execution_count": 4,
   "metadata": {},
   "outputs": [
    {
     "name": "stderr",
     "output_type": "stream",
     "text": [
      "/Users/kushaldey/anaconda2/envs/kipoi-shared__envs__kipoi-py3-keras2/lib/python3.6/site-packages/scipy/sparse/compressed.py:774: SparseEfficiencyWarning: Changing the sparsity structure of a csr_matrix is expensive. lil_matrix is more efficient.\n",
      "  SparseEfficiencyWarning)\n"
     ]
    }
   ],
   "source": [
    "\n",
    "\n",
    "Wh = sparse.random(Nsamples, num_healthy_components+num_shared_components, density=0.1, random_state=rs, data_rvs=rvs).tocsr()\n",
    "Hh = sparse.random(num_healthy_components+num_shared_components, Nfeatures, density=0.1, random_state=rs, data_rvs=rvs).tocsr()\n",
    "\n",
    "Wd = sparse.random(Nsamples, num_healthy_components+num_shared_components, density=0.1, random_state=rs, data_rvs=rvs).tocsr()\n",
    "Hd = sparse.random(num_healthy_components+num_shared_components, Nfeatures, density=0.1, random_state=rs, data_rvs=rvs).tocsr()\n",
    "\n",
    "Wd[:,:num_shared_components] = Wh[:,:num_shared_components]\n",
    "\n",
    "Xh = safe_sparse_dot(Wh, Hh) #+ np.random.randn(Nsamples, Nfeatures)*0.001\n",
    "Xd = safe_sparse_dot(Wd, Hd) #+ np.random.randn(Nsamples, Nfeatures)*0.001\n",
    "Xh = np.abs(Xh)\n",
    "Xd = np.abs(Xd)"
   ]
  },
  {
   "cell_type": "code",
   "execution_count": 5,
   "metadata": {},
   "outputs": [],
   "source": [
    "model = jointNMF.JointNMF(Xh, Xd, gamma=50, mu=0.1)"
   ]
  },
  {
   "cell_type": "code",
   "execution_count": 8,
   "metadata": {},
   "outputs": [],
   "source": [
    "import scipy"
   ]
  },
  {
   "cell_type": "code",
   "execution_count": 9,
   "metadata": {},
   "outputs": [
    {
     "ename": "AttributeError",
     "evalue": "'JointNMF' object has no attribute 'Wshd'",
     "output_type": "error",
     "traceback": [
      "\u001b[0;31m---------------------------------------------------------------------------\u001b[0m",
      "\u001b[0;31mAttributeError\u001b[0m                            Traceback (most recent call last)",
      "\u001b[0;32m<ipython-input-9-ce7671565d5e>\u001b[0m in \u001b[0;36m<module>\u001b[0;34m\u001b[0m\n\u001b[0;32m----> 1\u001b[0;31m \u001b[0mWshd_transform\u001b[0m \u001b[0;34m=\u001b[0m \u001b[0mmodel\u001b[0m\u001b[0;34m.\u001b[0m\u001b[0mWshd\u001b[0m\u001b[0;34m.\u001b[0m\u001b[0mmultiply\u001b[0m\u001b[0;34m(\u001b[0m\u001b[0mscipy\u001b[0m\u001b[0;34m.\u001b[0m\u001b[0msparse\u001b[0m\u001b[0;34m.\u001b[0m\u001b[0mcsr_matrix\u001b[0m\u001b[0;34m(\u001b[0m\u001b[0mmodel\u001b[0m\u001b[0;34m.\u001b[0m\u001b[0mgamma\u001b[0m\u001b[0;34m*\u001b[0m\u001b[0mnp\u001b[0m\u001b[0;34m.\u001b[0m\u001b[0mones\u001b[0m\u001b[0;34m(\u001b[0m\u001b[0;34m(\u001b[0m\u001b[0mmodel\u001b[0m\u001b[0;34m.\u001b[0m\u001b[0mXh\u001b[0m\u001b[0;34m.\u001b[0m\u001b[0mshape\u001b[0m\u001b[0;34m[\u001b[0m\u001b[0;36m0\u001b[0m\u001b[0;34m]\u001b[0m\u001b[0;34m,\u001b[0m \u001b[0mmodel\u001b[0m\u001b[0;34m.\u001b[0m\u001b[0mnsh_components\u001b[0m\u001b[0;34m)\u001b[0m\u001b[0;34m)\u001b[0m\u001b[0;34m)\u001b[0m\u001b[0;34m)\u001b[0m\u001b[0;34m\u001b[0m\u001b[0m\n\u001b[0m",
      "\u001b[0;31mAttributeError\u001b[0m: 'JointNMF' object has no attribute 'Wshd'"
     ]
    }
   ],
   "source": [
    "Wshd_transform = model.Wshd.multiply(scipy.sparse.csr_matrix(model.gamma*np.ones((model.Xh.shape[0], model.nsh_components))))"
   ]
  },
  {
   "cell_type": "code",
   "execution_count": 16,
   "metadata": {},
   "outputs": [],
   "source": [
    "zeros = np.zeros((model.Xh.shape[0], model.nh_components))"
   ]
  },
  {
   "cell_type": "code",
   "execution_count": 10,
   "metadata": {},
   "outputs": [
    {
     "name": "stderr",
     "output_type": "stream",
     "text": [
      "/Users/kushaldey/anaconda2/envs/kipoi-shared__envs__kipoi-py3-keras2/lib/python3.6/site-packages/scipy/sparse/base.py:484: RuntimeWarning: divide by zero encountered in true_divide\n",
      "  return np.true_divide(self.todense(), other)\n",
      "/Users/kushaldey/anaconda2/envs/kipoi-shared__envs__kipoi-py3-keras2/lib/python3.6/site-packages/scipy/sparse/base.py:484: RuntimeWarning: invalid value encountered in true_divide\n",
      "  return np.true_divide(self.todense(), other)\n"
     ]
    },
    {
     "name": "stdout",
     "output_type": "stream",
     "text": [
      "Current Chi2=11943793834.1469, Previous Chi2=200986797255958528000.0000,                       Change=100.0000% @ niters=0\n"
     ]
    },
    {
     "ename": "ValueError",
     "evalue": "NMF construction failed, likely due to missing data",
     "output_type": "error",
     "traceback": [
      "\u001b[0;31m---------------------------------------------------------------------------\u001b[0m",
      "\u001b[0;31mValueError\u001b[0m                                Traceback (most recent call last)",
      "\u001b[0;32m<ipython-input-10-b21ac5f758f1>\u001b[0m in \u001b[0;36m<module>\u001b[0;34m\u001b[0m\n\u001b[0;32m----> 1\u001b[0;31m \u001b[0mmodel\u001b[0m\u001b[0;34m.\u001b[0m\u001b[0msolve\u001b[0m\u001b[0;34m(\u001b[0m\u001b[0mmaxiters\u001b[0m\u001b[0;34m=\u001b[0m\u001b[0;36m20\u001b[0m\u001b[0;34m)\u001b[0m\u001b[0;34m\u001b[0m\u001b[0m\n\u001b[0m",
      "\u001b[0;32m~/Documents/singlecellLDSC/scgenetics/src/jointNMF/jointNMF.py\u001b[0m in \u001b[0;36msolve\u001b[0;34m(self, W_only, H_only, sparsemode, maxiters, tol)\u001b[0m\n\u001b[1;32m    134\u001b[0m             \u001b[0;31m# Some quick check. May need its error class ...\u001b[0m\u001b[0;34m\u001b[0m\u001b[0;34m\u001b[0m\u001b[0m\n\u001b[1;32m    135\u001b[0m             \u001b[0;32mif\u001b[0m \u001b[0;34m(\u001b[0m\u001b[0;32mnot\u001b[0m \u001b[0mnp\u001b[0m\u001b[0;34m.\u001b[0m\u001b[0misfinite\u001b[0m\u001b[0;34m(\u001b[0m\u001b[0mchi2\u001b[0m\u001b[0;34m)\u001b[0m\u001b[0;34m)\u001b[0m\u001b[0;34m:\u001b[0m\u001b[0;34m\u001b[0m\u001b[0m\n\u001b[0;32m--> 136\u001b[0;31m                \u001b[0;32mraise\u001b[0m \u001b[0mValueError\u001b[0m\u001b[0;34m(\u001b[0m\u001b[0;34m\"NMF construction failed, likely due to missing data\"\u001b[0m\u001b[0;34m)\u001b[0m\u001b[0;34m\u001b[0m\u001b[0m\n\u001b[0m\u001b[1;32m    137\u001b[0m \u001b[0;34m\u001b[0m\u001b[0m\n\u001b[1;32m    138\u001b[0m             \u001b[0;32mif\u001b[0m \u001b[0;34m(\u001b[0m\u001b[0mnp\u001b[0m\u001b[0;34m.\u001b[0m\u001b[0mmod\u001b[0m\u001b[0;34m(\u001b[0m\u001b[0mniter\u001b[0m\u001b[0;34m,\u001b[0m \u001b[0;36m20\u001b[0m\u001b[0;34m)\u001b[0m\u001b[0;34m==\u001b[0m\u001b[0;36m0\u001b[0m\u001b[0;34m)\u001b[0m\u001b[0;34m:\u001b[0m\u001b[0;34m\u001b[0m\u001b[0m\n",
      "\u001b[0;31mValueError\u001b[0m: NMF construction failed, likely due to missing data"
     ]
    }
   ],
   "source": [
    "model.solve(maxiters=20)"
   ]
  },
  {
   "cell_type": "code",
   "execution_count": 32,
   "metadata": {},
   "outputs": [
    {
     "data": {
      "text/plain": [
       "(80.07637355411069, 80.62259808323023)"
      ]
     },
     "execution_count": 32,
     "metadata": {},
     "output_type": "execute_result"
    }
   ],
   "source": [
    "np.mean(np.dot(model.Wh, model.Hh)), np.mean(np.dot(model.Wd, model.Hd))"
   ]
  },
  {
   "cell_type": "code",
   "execution_count": 33,
   "metadata": {},
   "outputs": [
    {
     "data": {
      "text/plain": [
       "46349148.906391144"
      ]
     },
     "execution_count": 33,
     "metadata": {},
     "output_type": "execute_result"
    }
   ],
   "source": [
    "model.cost"
   ]
  },
  {
   "cell_type": "code",
   "execution_count": 34,
   "metadata": {},
   "outputs": [
    {
     "data": {
      "text/plain": [
       "-4601.649328178914"
      ]
     },
     "execution_count": 34,
     "metadata": {},
     "output_type": "execute_result"
    }
   ],
   "source": [
    "np.sum(model.Xh -np.dot(model.Wh, model.Hh))"
   ]
  },
  {
   "cell_type": "code",
   "execution_count": 38,
   "metadata": {},
   "outputs": [
    {
     "data": {
      "text/plain": [
       "matrix([[0.],\n",
       "        [0.],\n",
       "        [0.],\n",
       "        ...,\n",
       "        [0.],\n",
       "        [0.],\n",
       "        [0.]])"
      ]
     },
     "execution_count": 38,
     "metadata": {},
     "output_type": "execute_result"
    }
   ],
   "source": [
    "model.Wh[:,i].todense()"
   ]
  },
  {
   "cell_type": "code",
   "execution_count": 37,
   "metadata": {},
   "outputs": [
    {
     "name": "stderr",
     "output_type": "stream",
     "text": [
      "/home/unix/kjag/.conda/envs/kjag/lib/python3.7/site-packages/numpy/lib/function_base.py:2526: RuntimeWarning: Degrees of freedom <= 0 for slice\n",
      "  c = cov(x, y, rowvar)\n",
      "/home/unix/kjag/.conda/envs/kjag/lib/python3.7/site-packages/numpy/lib/function_base.py:2455: RuntimeWarning: divide by zero encountered in true_divide\n",
      "  c *= np.true_divide(1, fact)\n",
      "/home/unix/kjag/.conda/envs/kjag/lib/python3.7/site-packages/numpy/lib/function_base.py:2455: RuntimeWarning: invalid value encountered in multiply\n",
      "  c *= np.true_divide(1, fact)\n"
     ]
    },
    {
     "name": "stdout",
     "output_type": "stream",
     "text": [
      "0 0 nan\n"
     ]
    },
    {
     "name": "stderr",
     "output_type": "stream",
     "text": [
      "/home/unix/kjag/.conda/envs/kjag/lib/python3.7/site-packages/numpy/lib/function_base.py:2526: RuntimeWarning: Degrees of freedom <= 0 for slice\n",
      "  c = cov(x, y, rowvar)\n",
      "/home/unix/kjag/.conda/envs/kjag/lib/python3.7/site-packages/numpy/lib/function_base.py:2455: RuntimeWarning: divide by zero encountered in true_divide\n",
      "  c *= np.true_divide(1, fact)\n",
      "/home/unix/kjag/.conda/envs/kjag/lib/python3.7/site-packages/numpy/lib/function_base.py:2455: RuntimeWarning: invalid value encountered in multiply\n",
      "  c *= np.true_divide(1, fact)\n"
     ]
    },
    {
     "name": "stdout",
     "output_type": "stream",
     "text": [
      "0 1 nan\n"
     ]
    },
    {
     "name": "stderr",
     "output_type": "stream",
     "text": [
      "/home/unix/kjag/.conda/envs/kjag/lib/python3.7/site-packages/numpy/lib/function_base.py:2526: RuntimeWarning: Degrees of freedom <= 0 for slice\n",
      "  c = cov(x, y, rowvar)\n",
      "/home/unix/kjag/.conda/envs/kjag/lib/python3.7/site-packages/numpy/lib/function_base.py:2455: RuntimeWarning: divide by zero encountered in true_divide\n",
      "  c *= np.true_divide(1, fact)\n",
      "/home/unix/kjag/.conda/envs/kjag/lib/python3.7/site-packages/numpy/lib/function_base.py:2455: RuntimeWarning: invalid value encountered in multiply\n",
      "  c *= np.true_divide(1, fact)\n"
     ]
    },
    {
     "name": "stdout",
     "output_type": "stream",
     "text": [
      "0 2 nan\n"
     ]
    },
    {
     "name": "stderr",
     "output_type": "stream",
     "text": [
      "/home/unix/kjag/.conda/envs/kjag/lib/python3.7/site-packages/numpy/lib/function_base.py:2526: RuntimeWarning: Degrees of freedom <= 0 for slice\n",
      "  c = cov(x, y, rowvar)\n",
      "/home/unix/kjag/.conda/envs/kjag/lib/python3.7/site-packages/numpy/lib/function_base.py:2455: RuntimeWarning: divide by zero encountered in true_divide\n",
      "  c *= np.true_divide(1, fact)\n",
      "/home/unix/kjag/.conda/envs/kjag/lib/python3.7/site-packages/numpy/lib/function_base.py:2455: RuntimeWarning: invalid value encountered in multiply\n",
      "  c *= np.true_divide(1, fact)\n"
     ]
    },
    {
     "name": "stdout",
     "output_type": "stream",
     "text": [
      "0 3 nan\n"
     ]
    },
    {
     "name": "stderr",
     "output_type": "stream",
     "text": [
      "/home/unix/kjag/.conda/envs/kjag/lib/python3.7/site-packages/numpy/lib/function_base.py:2526: RuntimeWarning: Degrees of freedom <= 0 for slice\n",
      "  c = cov(x, y, rowvar)\n",
      "/home/unix/kjag/.conda/envs/kjag/lib/python3.7/site-packages/numpy/lib/function_base.py:2455: RuntimeWarning: divide by zero encountered in true_divide\n",
      "  c *= np.true_divide(1, fact)\n",
      "/home/unix/kjag/.conda/envs/kjag/lib/python3.7/site-packages/numpy/lib/function_base.py:2455: RuntimeWarning: invalid value encountered in multiply\n",
      "  c *= np.true_divide(1, fact)\n"
     ]
    },
    {
     "name": "stdout",
     "output_type": "stream",
     "text": [
      "0 4 nan\n"
     ]
    },
    {
     "name": "stderr",
     "output_type": "stream",
     "text": [
      "/home/unix/kjag/.conda/envs/kjag/lib/python3.7/site-packages/numpy/lib/function_base.py:2526: RuntimeWarning: Degrees of freedom <= 0 for slice\n",
      "  c = cov(x, y, rowvar)\n",
      "/home/unix/kjag/.conda/envs/kjag/lib/python3.7/site-packages/numpy/lib/function_base.py:2455: RuntimeWarning: divide by zero encountered in true_divide\n",
      "  c *= np.true_divide(1, fact)\n",
      "/home/unix/kjag/.conda/envs/kjag/lib/python3.7/site-packages/numpy/lib/function_base.py:2455: RuntimeWarning: invalid value encountered in multiply\n",
      "  c *= np.true_divide(1, fact)\n"
     ]
    },
    {
     "name": "stdout",
     "output_type": "stream",
     "text": [
      "0 5 nan\n"
     ]
    },
    {
     "name": "stderr",
     "output_type": "stream",
     "text": [
      "/home/unix/kjag/.conda/envs/kjag/lib/python3.7/site-packages/numpy/lib/function_base.py:2526: RuntimeWarning: Degrees of freedom <= 0 for slice\n",
      "  c = cov(x, y, rowvar)\n",
      "/home/unix/kjag/.conda/envs/kjag/lib/python3.7/site-packages/numpy/lib/function_base.py:2455: RuntimeWarning: divide by zero encountered in true_divide\n",
      "  c *= np.true_divide(1, fact)\n",
      "/home/unix/kjag/.conda/envs/kjag/lib/python3.7/site-packages/numpy/lib/function_base.py:2455: RuntimeWarning: invalid value encountered in multiply\n",
      "  c *= np.true_divide(1, fact)\n"
     ]
    },
    {
     "name": "stdout",
     "output_type": "stream",
     "text": [
      "0 6 nan\n"
     ]
    },
    {
     "name": "stderr",
     "output_type": "stream",
     "text": [
      "/home/unix/kjag/.conda/envs/kjag/lib/python3.7/site-packages/numpy/lib/function_base.py:2526: RuntimeWarning: Degrees of freedom <= 0 for slice\n",
      "  c = cov(x, y, rowvar)\n",
      "/home/unix/kjag/.conda/envs/kjag/lib/python3.7/site-packages/numpy/lib/function_base.py:2455: RuntimeWarning: divide by zero encountered in true_divide\n",
      "  c *= np.true_divide(1, fact)\n",
      "/home/unix/kjag/.conda/envs/kjag/lib/python3.7/site-packages/numpy/lib/function_base.py:2455: RuntimeWarning: invalid value encountered in multiply\n",
      "  c *= np.true_divide(1, fact)\n"
     ]
    },
    {
     "name": "stdout",
     "output_type": "stream",
     "text": [
      "0 7 nan\n"
     ]
    },
    {
     "name": "stderr",
     "output_type": "stream",
     "text": [
      "/home/unix/kjag/.conda/envs/kjag/lib/python3.7/site-packages/numpy/lib/function_base.py:2526: RuntimeWarning: Degrees of freedom <= 0 for slice\n",
      "  c = cov(x, y, rowvar)\n",
      "/home/unix/kjag/.conda/envs/kjag/lib/python3.7/site-packages/numpy/lib/function_base.py:2455: RuntimeWarning: divide by zero encountered in true_divide\n",
      "  c *= np.true_divide(1, fact)\n",
      "/home/unix/kjag/.conda/envs/kjag/lib/python3.7/site-packages/numpy/lib/function_base.py:2455: RuntimeWarning: invalid value encountered in multiply\n",
      "  c *= np.true_divide(1, fact)\n"
     ]
    },
    {
     "name": "stdout",
     "output_type": "stream",
     "text": [
      "0 8 nan\n"
     ]
    },
    {
     "name": "stderr",
     "output_type": "stream",
     "text": [
      "/home/unix/kjag/.conda/envs/kjag/lib/python3.7/site-packages/numpy/lib/function_base.py:2526: RuntimeWarning: Degrees of freedom <= 0 for slice\n",
      "  c = cov(x, y, rowvar)\n",
      "/home/unix/kjag/.conda/envs/kjag/lib/python3.7/site-packages/numpy/lib/function_base.py:2455: RuntimeWarning: divide by zero encountered in true_divide\n",
      "  c *= np.true_divide(1, fact)\n",
      "/home/unix/kjag/.conda/envs/kjag/lib/python3.7/site-packages/numpy/lib/function_base.py:2455: RuntimeWarning: invalid value encountered in multiply\n",
      "  c *= np.true_divide(1, fact)\n"
     ]
    },
    {
     "name": "stdout",
     "output_type": "stream",
     "text": [
      "0 9 nan\n"
     ]
    },
    {
     "name": "stderr",
     "output_type": "stream",
     "text": [
      "/home/unix/kjag/.conda/envs/kjag/lib/python3.7/site-packages/numpy/lib/function_base.py:2526: RuntimeWarning: Degrees of freedom <= 0 for slice\n",
      "  c = cov(x, y, rowvar)\n",
      "/home/unix/kjag/.conda/envs/kjag/lib/python3.7/site-packages/numpy/lib/function_base.py:2455: RuntimeWarning: divide by zero encountered in true_divide\n",
      "  c *= np.true_divide(1, fact)\n",
      "/home/unix/kjag/.conda/envs/kjag/lib/python3.7/site-packages/numpy/lib/function_base.py:2455: RuntimeWarning: invalid value encountered in multiply\n",
      "  c *= np.true_divide(1, fact)\n"
     ]
    },
    {
     "name": "stdout",
     "output_type": "stream",
     "text": [
      "1 0 nan\n"
     ]
    },
    {
     "name": "stderr",
     "output_type": "stream",
     "text": [
      "/home/unix/kjag/.conda/envs/kjag/lib/python3.7/site-packages/numpy/lib/function_base.py:2526: RuntimeWarning: Degrees of freedom <= 0 for slice\n",
      "  c = cov(x, y, rowvar)\n",
      "/home/unix/kjag/.conda/envs/kjag/lib/python3.7/site-packages/numpy/lib/function_base.py:2455: RuntimeWarning: divide by zero encountered in true_divide\n",
      "  c *= np.true_divide(1, fact)\n",
      "/home/unix/kjag/.conda/envs/kjag/lib/python3.7/site-packages/numpy/lib/function_base.py:2455: RuntimeWarning: invalid value encountered in multiply\n",
      "  c *= np.true_divide(1, fact)\n"
     ]
    },
    {
     "ename": "KeyboardInterrupt",
     "evalue": "",
     "output_type": "error",
     "traceback": [
      "\u001b[0;31m---------------------------------------------------------------------------\u001b[0m",
      "\u001b[0;31mKeyboardInterrupt\u001b[0m                         Traceback (most recent call last)",
      "\u001b[0;32m<ipython-input-37-591688878bfe>\u001b[0m in \u001b[0;36m<module>\u001b[0;34m\u001b[0m\n\u001b[1;32m      1\u001b[0m \u001b[0;32mfor\u001b[0m \u001b[0mi\u001b[0m \u001b[0;32min\u001b[0m \u001b[0mrange\u001b[0m\u001b[0;34m(\u001b[0m\u001b[0mnum_shared_components\u001b[0m\u001b[0;34m)\u001b[0m\u001b[0;34m:\u001b[0m\u001b[0;34m\u001b[0m\u001b[0;34m\u001b[0m\u001b[0m\n\u001b[1;32m      2\u001b[0m     \u001b[0;32mfor\u001b[0m \u001b[0mj\u001b[0m \u001b[0;32min\u001b[0m \u001b[0mrange\u001b[0m\u001b[0;34m(\u001b[0m\u001b[0mnum_shared_components\u001b[0m\u001b[0;34m)\u001b[0m\u001b[0;34m:\u001b[0m\u001b[0;34m\u001b[0m\u001b[0;34m\u001b[0m\u001b[0m\n\u001b[0;32m----> 3\u001b[0;31m         \u001b[0mprint\u001b[0m\u001b[0;34m(\u001b[0m\u001b[0mi\u001b[0m\u001b[0;34m,\u001b[0m \u001b[0mj\u001b[0m\u001b[0;34m,\u001b[0m \u001b[0mnp\u001b[0m\u001b[0;34m.\u001b[0m\u001b[0mcorrcoef\u001b[0m\u001b[0;34m(\u001b[0m\u001b[0mmodel\u001b[0m\u001b[0;34m.\u001b[0m\u001b[0mWh\u001b[0m\u001b[0;34m[\u001b[0m\u001b[0;34m:\u001b[0m\u001b[0;34m,\u001b[0m\u001b[0mi\u001b[0m\u001b[0;34m]\u001b[0m\u001b[0;34m.\u001b[0m\u001b[0mtodense\u001b[0m\u001b[0;34m(\u001b[0m\u001b[0;34m)\u001b[0m\u001b[0;34m,\u001b[0m \u001b[0mmodel\u001b[0m\u001b[0;34m.\u001b[0m\u001b[0mWd\u001b[0m\u001b[0;34m[\u001b[0m\u001b[0;34m:\u001b[0m\u001b[0;34m,\u001b[0m\u001b[0mj\u001b[0m\u001b[0;34m]\u001b[0m\u001b[0;34m.\u001b[0m\u001b[0mtodense\u001b[0m\u001b[0;34m(\u001b[0m\u001b[0;34m)\u001b[0m\u001b[0;34m)\u001b[0m\u001b[0;34m[\u001b[0m\u001b[0;36m0\u001b[0m\u001b[0;34m]\u001b[0m\u001b[0;34m[\u001b[0m\u001b[0;36m1\u001b[0m\u001b[0;34m]\u001b[0m\u001b[0;34m)\u001b[0m\u001b[0;34m\u001b[0m\u001b[0;34m\u001b[0m\u001b[0m\n\u001b[0m",
      "\u001b[0;32m<__array_function__ internals>\u001b[0m in \u001b[0;36mcorrcoef\u001b[0;34m(*args, **kwargs)\u001b[0m\n",
      "\u001b[0;32m~/.conda/envs/kjag/lib/python3.7/site-packages/numpy/lib/function_base.py\u001b[0m in \u001b[0;36mcorrcoef\u001b[0;34m(x, y, rowvar, bias, ddof)\u001b[0m\n\u001b[1;32m   2538\u001b[0m     \u001b[0;31m# abs(a[i,j]) <= 1 for complex arrays, but is the best we can do without\u001b[0m\u001b[0;34m\u001b[0m\u001b[0;34m\u001b[0m\u001b[0;34m\u001b[0m\u001b[0m\n\u001b[1;32m   2539\u001b[0m     \u001b[0;31m# excessive work.\u001b[0m\u001b[0;34m\u001b[0m\u001b[0;34m\u001b[0m\u001b[0;34m\u001b[0m\u001b[0m\n\u001b[0;32m-> 2540\u001b[0;31m     \u001b[0mnp\u001b[0m\u001b[0;34m.\u001b[0m\u001b[0mclip\u001b[0m\u001b[0;34m(\u001b[0m\u001b[0mc\u001b[0m\u001b[0;34m.\u001b[0m\u001b[0mreal\u001b[0m\u001b[0;34m,\u001b[0m \u001b[0;34m-\u001b[0m\u001b[0;36m1\u001b[0m\u001b[0;34m,\u001b[0m \u001b[0;36m1\u001b[0m\u001b[0;34m,\u001b[0m \u001b[0mout\u001b[0m\u001b[0;34m=\u001b[0m\u001b[0mc\u001b[0m\u001b[0;34m.\u001b[0m\u001b[0mreal\u001b[0m\u001b[0;34m)\u001b[0m\u001b[0;34m\u001b[0m\u001b[0;34m\u001b[0m\u001b[0m\n\u001b[0m\u001b[1;32m   2541\u001b[0m     \u001b[0;32mif\u001b[0m \u001b[0mnp\u001b[0m\u001b[0;34m.\u001b[0m\u001b[0miscomplexobj\u001b[0m\u001b[0;34m(\u001b[0m\u001b[0mc\u001b[0m\u001b[0;34m)\u001b[0m\u001b[0;34m:\u001b[0m\u001b[0;34m\u001b[0m\u001b[0;34m\u001b[0m\u001b[0m\n\u001b[1;32m   2542\u001b[0m         \u001b[0mnp\u001b[0m\u001b[0;34m.\u001b[0m\u001b[0mclip\u001b[0m\u001b[0;34m(\u001b[0m\u001b[0mc\u001b[0m\u001b[0;34m.\u001b[0m\u001b[0mimag\u001b[0m\u001b[0;34m,\u001b[0m \u001b[0;34m-\u001b[0m\u001b[0;36m1\u001b[0m\u001b[0;34m,\u001b[0m \u001b[0;36m1\u001b[0m\u001b[0;34m,\u001b[0m \u001b[0mout\u001b[0m\u001b[0;34m=\u001b[0m\u001b[0mc\u001b[0m\u001b[0;34m.\u001b[0m\u001b[0mimag\u001b[0m\u001b[0;34m)\u001b[0m\u001b[0;34m\u001b[0m\u001b[0;34m\u001b[0m\u001b[0m\n",
      "\u001b[0;32m<__array_function__ internals>\u001b[0m in \u001b[0;36mclip\u001b[0;34m(*args, **kwargs)\u001b[0m\n",
      "\u001b[0;32m~/.conda/envs/kjag/lib/python3.7/site-packages/numpy/core/fromnumeric.py\u001b[0m in \u001b[0;36mclip\u001b[0;34m(a, a_min, a_max, out, **kwargs)\u001b[0m\n\u001b[1;32m   2082\u001b[0m \u001b[0;34m\u001b[0m\u001b[0m\n\u001b[1;32m   2083\u001b[0m     \"\"\"\n\u001b[0;32m-> 2084\u001b[0;31m     \u001b[0;32mreturn\u001b[0m \u001b[0m_wrapfunc\u001b[0m\u001b[0;34m(\u001b[0m\u001b[0ma\u001b[0m\u001b[0;34m,\u001b[0m \u001b[0;34m'clip'\u001b[0m\u001b[0;34m,\u001b[0m \u001b[0ma_min\u001b[0m\u001b[0;34m,\u001b[0m \u001b[0ma_max\u001b[0m\u001b[0;34m,\u001b[0m \u001b[0mout\u001b[0m\u001b[0;34m=\u001b[0m\u001b[0mout\u001b[0m\u001b[0;34m,\u001b[0m \u001b[0;34m**\u001b[0m\u001b[0mkwargs\u001b[0m\u001b[0;34m)\u001b[0m\u001b[0;34m\u001b[0m\u001b[0;34m\u001b[0m\u001b[0m\n\u001b[0m\u001b[1;32m   2085\u001b[0m \u001b[0;34m\u001b[0m\u001b[0m\n\u001b[1;32m   2086\u001b[0m \u001b[0;34m\u001b[0m\u001b[0m\n",
      "\u001b[0;32m~/.conda/envs/kjag/lib/python3.7/site-packages/numpy/core/fromnumeric.py\u001b[0m in \u001b[0;36m_wrapfunc\u001b[0;34m(obj, method, *args, **kwds)\u001b[0m\n\u001b[1;32m     59\u001b[0m \u001b[0;34m\u001b[0m\u001b[0m\n\u001b[1;32m     60\u001b[0m     \u001b[0;32mtry\u001b[0m\u001b[0;34m:\u001b[0m\u001b[0;34m\u001b[0m\u001b[0;34m\u001b[0m\u001b[0m\n\u001b[0;32m---> 61\u001b[0;31m         \u001b[0;32mreturn\u001b[0m \u001b[0mbound\u001b[0m\u001b[0;34m(\u001b[0m\u001b[0;34m*\u001b[0m\u001b[0margs\u001b[0m\u001b[0;34m,\u001b[0m \u001b[0;34m**\u001b[0m\u001b[0mkwds\u001b[0m\u001b[0;34m)\u001b[0m\u001b[0;34m\u001b[0m\u001b[0;34m\u001b[0m\u001b[0m\n\u001b[0m\u001b[1;32m     62\u001b[0m     \u001b[0;32mexcept\u001b[0m \u001b[0mTypeError\u001b[0m\u001b[0;34m:\u001b[0m\u001b[0;34m\u001b[0m\u001b[0;34m\u001b[0m\u001b[0m\n\u001b[1;32m     63\u001b[0m         \u001b[0;31m# A TypeError occurs if the object does have such a method in its\u001b[0m\u001b[0;34m\u001b[0m\u001b[0;34m\u001b[0m\u001b[0;34m\u001b[0m\u001b[0m\n",
      "\u001b[0;32m~/.conda/envs/kjag/lib/python3.7/site-packages/numpy/core/_methods.py\u001b[0m in \u001b[0;36m_clip\u001b[0;34m(a, min, max, out, casting, **kwargs)\u001b[0m\n\u001b[1;32m    130\u001b[0m     \u001b[0;32melse\u001b[0m\u001b[0;34m:\u001b[0m\u001b[0;34m\u001b[0m\u001b[0;34m\u001b[0m\u001b[0m\n\u001b[1;32m    131\u001b[0m         return _clip_dep_invoke_with_casting(\n\u001b[0;32m--> 132\u001b[0;31m             um.clip, a, min, max, out=out, casting=casting, **kwargs)\n\u001b[0m\u001b[1;32m    133\u001b[0m \u001b[0;34m\u001b[0m\u001b[0m\n\u001b[1;32m    134\u001b[0m \u001b[0;32mdef\u001b[0m \u001b[0m_mean\u001b[0m\u001b[0;34m(\u001b[0m\u001b[0ma\u001b[0m\u001b[0;34m,\u001b[0m \u001b[0maxis\u001b[0m\u001b[0;34m=\u001b[0m\u001b[0;32mNone\u001b[0m\u001b[0;34m,\u001b[0m \u001b[0mdtype\u001b[0m\u001b[0;34m=\u001b[0m\u001b[0;32mNone\u001b[0m\u001b[0;34m,\u001b[0m \u001b[0mout\u001b[0m\u001b[0;34m=\u001b[0m\u001b[0;32mNone\u001b[0m\u001b[0;34m,\u001b[0m \u001b[0mkeepdims\u001b[0m\u001b[0;34m=\u001b[0m\u001b[0;32mFalse\u001b[0m\u001b[0;34m)\u001b[0m\u001b[0;34m:\u001b[0m\u001b[0;34m\u001b[0m\u001b[0;34m\u001b[0m\u001b[0m\n",
      "\u001b[0;32m~/.conda/envs/kjag/lib/python3.7/site-packages/numpy/core/_methods.py\u001b[0m in \u001b[0;36m_clip_dep_invoke_with_casting\u001b[0;34m(ufunc, out, casting, *args, **kwargs)\u001b[0m\n\u001b[1;32m     83\u001b[0m     \u001b[0;31m# try to deal with broken casting rules\u001b[0m\u001b[0;34m\u001b[0m\u001b[0;34m\u001b[0m\u001b[0;34m\u001b[0m\u001b[0m\n\u001b[1;32m     84\u001b[0m     \u001b[0;32mtry\u001b[0m\u001b[0;34m:\u001b[0m\u001b[0;34m\u001b[0m\u001b[0;34m\u001b[0m\u001b[0m\n\u001b[0;32m---> 85\u001b[0;31m         \u001b[0;32mreturn\u001b[0m \u001b[0mufunc\u001b[0m\u001b[0;34m(\u001b[0m\u001b[0;34m*\u001b[0m\u001b[0margs\u001b[0m\u001b[0;34m,\u001b[0m \u001b[0mout\u001b[0m\u001b[0;34m=\u001b[0m\u001b[0mout\u001b[0m\u001b[0;34m,\u001b[0m \u001b[0;34m**\u001b[0m\u001b[0mkwargs\u001b[0m\u001b[0;34m)\u001b[0m\u001b[0;34m\u001b[0m\u001b[0;34m\u001b[0m\u001b[0m\n\u001b[0m\u001b[1;32m     86\u001b[0m     \u001b[0;32mexcept\u001b[0m \u001b[0m_exceptions\u001b[0m\u001b[0;34m.\u001b[0m\u001b[0m_UFuncOutputCastingError\u001b[0m \u001b[0;32mas\u001b[0m \u001b[0me\u001b[0m\u001b[0;34m:\u001b[0m\u001b[0;34m\u001b[0m\u001b[0;34m\u001b[0m\u001b[0m\n\u001b[1;32m     87\u001b[0m         \u001b[0;31m# Numpy 1.17.0, 2019-02-24\u001b[0m\u001b[0;34m\u001b[0m\u001b[0;34m\u001b[0m\u001b[0;34m\u001b[0m\u001b[0m\n",
      "\u001b[0;31mKeyboardInterrupt\u001b[0m: "
     ]
    }
   ],
   "source": [
    "for i in range(num_shared_components):\n",
    "    for j in range(num_shared_components):\n",
    "        print(i, j, np.corrcoef(model.Wh[:,i].todense(), model.Wd[:,j].todense())[0][1])"
   ]
  },
  {
   "cell_type": "code",
   "execution_count": 28,
   "metadata": {},
   "outputs": [
    {
     "name": "stdout",
     "output_type": "stream",
     "text": [
      "0 0 -0.23919132301506876\n",
      "0 1 -0.020329040533452768\n",
      "0 2 0.05653547517866928\n",
      "0 3 0.7944151924840428\n",
      "0 4 0.34248640161577865\n",
      "0 5 0.06863453136166481\n",
      "0 6 0.09027510965114953\n",
      "0 7 0.23728392716716348\n",
      "0 8 0.19073355731960454\n",
      "0 9 -0.05380210378835711\n",
      "0 10 0.12658510989860022\n",
      "0 11 0.034269583051979774\n",
      "0 12 0.055832873995750855\n",
      "0 13 0.06462120263122763\n",
      "0 14 -0.09170893271200274\n",
      "1 0 0.714191716555186\n",
      "1 1 -0.05942276686801498\n",
      "1 2 0.13462368519402632\n",
      "1 3 -0.32299343900889466\n",
      "1 4 -0.139036975170328\n",
      "1 5 0.13276039454011296\n",
      "1 6 0.08736278352387411\n",
      "1 7 0.00895874870308073\n",
      "1 8 -0.0835679498092433\n",
      "1 9 0.18635912045313527\n",
      "1 10 0.052288711366931646\n",
      "1 11 0.3267588955253579\n",
      "1 12 0.005933465095598795\n",
      "1 13 0.28128691765964003\n",
      "1 14 -0.16507769329646108\n",
      "2 0 -0.36413998014793797\n",
      "2 1 -0.07842703341795322\n",
      "2 2 0.4862088135104401\n",
      "2 3 -0.22151938323855214\n",
      "2 4 0.09448924431447528\n",
      "2 5 -0.028981374427506076\n",
      "2 6 0.11131173275188662\n",
      "2 7 -0.46157264008495474\n",
      "2 8 0.07860933431543633\n",
      "2 9 0.15294614801585432\n",
      "2 10 0.3800223287671836\n",
      "2 11 0.04564925080932392\n",
      "2 12 -0.08817455461611318\n",
      "2 13 0.008935405659415916\n",
      "2 14 0.11606399354645545\n",
      "3 0 0.3561683674827829\n",
      "3 1 0.0745711797081141\n",
      "3 2 0.6375444500773847\n",
      "3 3 -0.02667900999130134\n",
      "3 4 -0.4677416173990797\n",
      "3 5 0.14994479515823989\n",
      "3 6 -0.03510835400664149\n",
      "3 7 0.07649504922018988\n",
      "3 8 0.15484051268219493\n",
      "3 9 -0.08087944485118773\n",
      "3 10 0.06381284346719748\n",
      "3 11 0.10901628823066903\n",
      "3 12 -0.32190656051267036\n",
      "3 13 -0.050482604461750055\n",
      "3 14 -0.06557475507102006\n",
      "4 0 -0.015911804917964765\n",
      "4 1 0.710231271094111\n",
      "4 2 0.19240276839712825\n",
      "4 3 -0.01204402457043282\n",
      "4 4 0.2479821528260765\n",
      "4 5 -0.4050612419611086\n",
      "4 6 -0.24869630812006258\n",
      "4 7 0.21545246981477204\n",
      "4 8 -0.08693158134873623\n",
      "4 9 0.026818461692267627\n",
      "4 10 0.013276619758244146\n",
      "4 11 -0.05684573859336486\n",
      "4 12 0.21281124549969072\n",
      "4 13 0.06150993504197107\n",
      "4 14 -0.021799929473940986\n",
      "5 0 0.35260619320831327\n",
      "5 1 -0.16570397349007301\n",
      "5 2 -0.1542719920278121\n",
      "5 3 0.030638828407029896\n",
      "5 4 0.4131911917651501\n",
      "5 5 -0.071404138462888\n",
      "5 6 0.09788572891465619\n",
      "5 7 0.16006167215664996\n",
      "5 8 -0.18279367758510623\n",
      "5 9 0.06839920273738449\n",
      "5 10 -0.020253202250645166\n",
      "5 11 0.39095746167136136\n",
      "5 12 0.07847329532162443\n",
      "5 13 -0.18686925982522173\n",
      "5 14 0.05192569145417575\n",
      "6 0 0.12170903531137532\n",
      "6 1 0.5702236090643937\n",
      "6 2 -0.3497814440731518\n",
      "6 3 -0.3614630250322914\n",
      "6 4 0.341419207805885\n",
      "6 5 0.0247420269131772\n",
      "6 6 0.18342529093133672\n",
      "6 7 0.12973863839029448\n",
      "6 8 0.11489389603426531\n",
      "6 9 0.07844274957040209\n",
      "6 10 0.029485285770595823\n",
      "6 11 -0.176527651623143\n",
      "6 12 -0.19828162883543168\n",
      "6 13 -0.09970034986709107\n",
      "6 14 0.17260190580704163\n",
      "7 0 -0.3247188555357957\n",
      "7 1 0.1971793535636705\n",
      "7 2 -0.022762425422875536\n",
      "7 3 -0.18242283857424457\n",
      "7 4 -0.2849319432060664\n",
      "7 5 0.18835486399824886\n",
      "7 6 -0.11314994179557146\n",
      "7 7 -0.0035582676174277946\n",
      "7 8 -0.10814143853628196\n",
      "7 9 -0.16849837194638542\n",
      "7 10 -0.13303804111933185\n",
      "7 11 0.1420721422377\n",
      "7 12 0.46764510144684096\n",
      "7 13 -0.07561309182005527\n",
      "7 14 0.09052919163795038\n",
      "8 0 -0.3539950493081036\n",
      "8 1 -0.0807316692491165\n",
      "8 2 -0.1380489643716753\n",
      "8 3 0.11116832161414118\n",
      "8 4 -0.19269651126144113\n",
      "8 5 -0.05952277848780153\n",
      "8 6 0.5515995644692329\n",
      "8 7 0.09209023050688514\n",
      "8 8 0.2466327919992675\n",
      "8 9 0.02591489144532883\n",
      "8 10 0.023456098321833284\n",
      "8 11 0.20043870429181365\n",
      "8 12 0.016269612578773837\n",
      "8 13 0.06954760777038851\n",
      "8 14 0.03336673785380846\n",
      "9 0 0.38928330074557577\n",
      "9 1 0.07799850169506463\n",
      "9 2 -0.02659393090913133\n",
      "9 3 0.5851318649154649\n",
      "9 4 -0.2126238491612063\n",
      "9 5 -0.2913829840928773\n",
      "9 6 0.07415213340793297\n",
      "9 7 -0.2617359166478188\n",
      "9 8 -0.0507527699478945\n",
      "9 9 0.18736974647615545\n",
      "9 10 -0.01912033853180403\n",
      "9 11 -0.14253063980702793\n",
      "9 12 0.04612688750723373\n",
      "9 13 -0.027586048481814732\n",
      "9 14 0.2072291969110443\n",
      "10 0 0.03685548442237201\n",
      "10 1 -0.45038899402998533\n",
      "10 2 0.02878226150568644\n",
      "10 3 0.024405549647295983\n",
      "10 4 -0.2578983619791209\n",
      "10 5 0.07320086693323531\n",
      "10 6 0.07411187846976981\n",
      "10 7 0.36650555083966546\n",
      "10 8 0.2653715291009261\n",
      "10 9 0.15709030684175831\n",
      "10 10 -0.05486222918961477\n",
      "10 11 -0.18206266740074706\n",
      "10 12 0.16147784610364466\n",
      "10 13 0.13275609010075065\n",
      "10 14 0.5187390400348676\n",
      "11 0 -0.18410163459053183\n",
      "11 1 0.0588380741795509\n",
      "11 2 0.09517290104638561\n",
      "11 3 0.12477555955512636\n",
      "11 4 0.38066309633249257\n",
      "11 5 0.18240115909074392\n",
      "11 6 -0.007709001167976665\n",
      "11 7 -0.11668155350367307\n",
      "11 8 0.13957088545959234\n",
      "11 9 0.21638289870797908\n",
      "11 10 -0.5194474814520761\n",
      "11 11 0.3723888391959823\n",
      "11 12 -0.030323592992811083\n",
      "11 13 0.16577506188107863\n",
      "11 14 0.14545364568996247\n",
      "12 0 0.2967764440712662\n",
      "12 1 -0.14471786429532607\n",
      "12 2 0.18320383478352828\n",
      "12 3 -0.09659639832708138\n",
      "12 4 0.3127544056665188\n",
      "12 5 0.042166393523043584\n",
      "12 6 0.5042985283691828\n",
      "12 7 -0.07883167684155805\n",
      "12 8 -0.15287962462088098\n",
      "12 9 0.009619618554021648\n",
      "12 10 0.07519702663307397\n",
      "12 11 -0.3885253698783661\n",
      "12 12 0.2689940472415385\n",
      "12 13 0.22596563318340254\n",
      "12 14 0.08102210320029828\n",
      "13 0 0.5428557490046775\n",
      "13 1 -0.22370437026630818\n",
      "13 2 0.0057335676900064254\n",
      "13 3 -0.051774303040553325\n",
      "13 4 0.12446660675916824\n",
      "13 5 0.27124464082738214\n",
      "13 6 -0.10992621691226118\n",
      "13 7 0.018889837031058943\n",
      "13 8 0.4314062991632176\n",
      "13 9 0.21596769592018075\n",
      "13 10 0.011974620205950453\n",
      "13 11 -0.1115830423836646\n",
      "13 12 0.28606576934320205\n",
      "13 13 -0.1964504696297188\n",
      "13 14 -0.11086661916828863\n",
      "14 0 0.23687390727057647\n",
      "14 1 -0.014852796948626366\n",
      "14 2 -0.11174184839452744\n",
      "14 3 0.051274659609098855\n",
      "14 4 0.2898257990564609\n",
      "14 5 0.06584165281285623\n",
      "14 6 0.09854218657381615\n",
      "14 7 0.12532837209765704\n",
      "14 8 0.3002956744821969\n",
      "14 9 -0.5451917544633327\n",
      "14 10 0.3678594889341352\n",
      "14 11 0.2589856522905989\n",
      "14 12 0.012992998405467327\n",
      "14 13 0.030604449788708753\n",
      "14 14 0.27308863113965165\n"
     ]
    }
   ],
   "source": [
    "for i in range(Wh.shape[1]):\n",
    "    for j in range(Wh.shape[1]):\n",
    "        print(i, j, np.corrcoef(model.Wh[:,i], Wh[:,j])[0][1])"
   ]
  },
  {
   "cell_type": "code",
   "execution_count": 29,
   "metadata": {},
   "outputs": [
    {
     "name": "stdout",
     "output_type": "stream",
     "text": [
      "0 0 1.0\n",
      "0 1 -0.3357900902708881\n",
      "0 2 0.03543285551238617\n",
      "0 3 -0.12140019101452496\n",
      "0 4 -0.01429777980126236\n",
      "0 5 -0.02818866283581724\n",
      "0 6 -0.11070088802267132\n",
      "0 7 -0.0674341603992078\n",
      "0 8 0.12275439039427045\n",
      "0 9 0.22054903598544615\n",
      "0 10 0.3503140655883547\n",
      "0 11 -0.08394550285640004\n",
      "0 12 0.10001908722539606\n",
      "0 13 -0.028116253036382658\n",
      "0 14 0.017296721392212132\n",
      "1 0 -0.33579009027088813\n",
      "1 1 1.0\n",
      "1 2 -0.0476116822971609\n",
      "1 3 0.3666066489777668\n",
      "1 4 0.012256976388125557\n",
      "1 5 0.14044778341104175\n",
      "1 6 0.03202509496453798\n",
      "1 7 -0.2150334029041851\n",
      "1 8 -0.28867119649509165\n",
      "1 9 -0.08520694770439172\n",
      "1 10 -0.09930831946244728\n",
      "1 11 0.10049720791944859\n",
      "1 12 0.03882600021825522\n",
      "1 13 -0.11239809278739368\n",
      "1 14 -0.19378275916554474\n",
      "2 0 0.035432855512386174\n",
      "2 1 -0.04761168229716091\n",
      "2 2 0.9999999999999999\n",
      "2 3 0.13537416688967918\n",
      "2 4 -0.08860545148313727\n",
      "2 5 -0.09928990758058849\n",
      "2 6 -0.08186854089620961\n",
      "2 7 0.09679817065718208\n",
      "2 8 0.04292637382169394\n",
      "2 9 -0.16970467248207585\n",
      "2 10 -0.12644936005456459\n",
      "2 11 0.05750750090124744\n",
      "2 12 -0.13120079458330564\n",
      "2 13 -0.021789780639109076\n",
      "2 14 0.04610753653323197\n",
      "3 0 -0.12140019101452496\n",
      "3 1 0.3666066489777668\n",
      "3 2 0.13537416688967918\n",
      "3 3 1.0\n",
      "3 4 -0.047979872688286566\n",
      "3 5 -0.27773242361872513\n",
      "3 6 -0.17862740798185534\n",
      "3 7 0.04303881344554117\n",
      "3 8 -0.1182010726768837\n",
      "3 9 0.18652349871782445\n",
      "3 10 -0.045547544692048546\n",
      "3 11 0.08171701054874672\n",
      "3 12 -0.18590655430191827\n",
      "3 13 -0.039954413285257985\n",
      "3 14 0.029745592147597637\n",
      "4 0 -0.01429777980126236\n",
      "4 1 0.012256976388125557\n",
      "4 2 -0.08860545148313725\n",
      "4 3 -0.047979872688286566\n",
      "4 4 1.0\n",
      "4 5 0.026032547452069982\n",
      "4 6 0.22828706502719737\n",
      "4 7 -0.09823638838749052\n",
      "4 8 -0.07856872881344286\n",
      "4 9 -0.001772966859795961\n",
      "4 10 0.10420775751497893\n",
      "4 11 0.08238901292381767\n",
      "4 12 -0.12764027215290893\n",
      "4 13 0.06552711533166936\n",
      "4 14 -0.12617445866579688\n",
      "5 0 -0.02818866283581724\n",
      "5 1 0.14044778341104175\n",
      "5 2 -0.09928990758058848\n",
      "5 3 -0.27773242361872513\n",
      "5 4 0.02603254745206998\n",
      "5 5 0.9999999999999999\n",
      "5 6 -0.03888980877177081\n",
      "5 7 -0.253070082565252\n",
      "5 8 -0.06278362923922678\n",
      "5 9 0.008948979086535492\n",
      "5 10 0.10477429168773313\n",
      "5 11 0.10106267103986966\n",
      "5 12 0.007178330892599553\n",
      "5 13 -0.09405786445104868\n",
      "5 14 -0.1444604163181678\n",
      "6 0 -0.11070088802267132\n",
      "6 1 0.032025094964537974\n",
      "6 2 -0.0818685408962096\n",
      "6 3 -0.17862740798185536\n",
      "6 4 0.2282870650271974\n",
      "6 5 -0.03888980877177081\n",
      "6 6 1.0\n",
      "6 7 0.04661994173807309\n",
      "6 8 -0.15992823481371798\n",
      "6 9 -0.13615702654572992\n",
      "6 10 -0.13219872917609146\n",
      "6 11 0.11876944990852575\n",
      "6 12 0.09215608981091168\n",
      "6 13 -0.018655494520096114\n",
      "6 14 0.050430148509463826\n",
      "7 0 -0.0674341603992078\n",
      "7 1 -0.2150334029041851\n",
      "7 2 0.09679817065718209\n",
      "7 3 0.04303881344554117\n",
      "7 4 -0.09823638838749052\n",
      "7 5 -0.253070082565252\n",
      "7 6 0.04661994173807308\n",
      "7 7 1.0\n",
      "7 8 0.0030694586445246417\n",
      "7 9 -0.11887174113633837\n",
      "7 10 -0.1856716599733465\n",
      "7 11 -0.11258352191215946\n",
      "7 12 -0.11776953104157951\n",
      "7 13 0.05804620798390168\n",
      "7 14 0.08984299940304236\n",
      "8 0 0.12275439039427045\n",
      "8 1 -0.2886711964950916\n",
      "8 2 0.04292637382169394\n",
      "8 3 -0.1182010726768837\n",
      "8 4 -0.07856872881344286\n",
      "8 5 -0.06278362923922678\n",
      "8 6 -0.15992823481371796\n",
      "8 7 0.0030694586445246417\n",
      "8 8 1.0\n",
      "8 9 -0.04469188300732658\n",
      "8 10 -0.050477334003746446\n",
      "8 11 -0.23991148646677424\n",
      "8 12 -0.07977128505312245\n",
      "8 13 -0.10856189346025152\n",
      "8 14 0.024844732755001597\n",
      "9 0 0.22054903598544615\n",
      "9 1 -0.08520694770439172\n",
      "9 2 -0.16970467248207582\n",
      "9 3 0.18652349871782445\n",
      "9 4 -0.0017729668597959607\n",
      "9 5 0.008948979086535492\n",
      "9 6 -0.13615702654572992\n",
      "9 7 -0.11887174113633837\n",
      "9 8 -0.04469188300732658\n",
      "9 9 1.0\n",
      "9 10 0.31708705368149953\n",
      "9 11 -0.1292127599548892\n",
      "9 12 0.16235192499659926\n",
      "9 13 0.012378585202677721\n",
      "9 14 0.08043733007616519\n",
      "10 0 0.3503140655883547\n",
      "10 1 -0.0993083194624473\n",
      "10 2 -0.12644936005456459\n",
      "10 3 -0.045547544692048546\n",
      "10 4 0.10420775751497893\n",
      "10 5 0.10477429168773311\n",
      "10 6 -0.13219872917609146\n",
      "10 7 -0.1856716599733465\n",
      "10 8 -0.050477334003746446\n",
      "10 9 0.31708705368149953\n",
      "10 10 0.9999999999999998\n",
      "10 11 -0.10188833606744725\n",
      "10 12 -0.02386259817799464\n",
      "10 13 -0.042615384685418575\n",
      "10 14 -0.07085022827340007\n",
      "11 0 -0.08394550285640004\n",
      "11 1 0.10049720791944859\n",
      "11 2 0.05750750090124744\n",
      "11 3 0.08171701054874672\n",
      "11 4 0.08238901292381769\n",
      "11 5 0.10106267103986967\n",
      "11 6 0.11876944990852575\n",
      "11 7 -0.11258352191215946\n",
      "11 8 -0.23991148646677427\n",
      "11 9 -0.1292127599548892\n",
      "11 10 -0.10188833606744725\n",
      "11 11 1.0\n",
      "11 12 0.051224154219729645\n",
      "11 13 0.03736429793666706\n",
      "11 14 0.08388050163024172\n",
      "12 0 0.10001908722539604\n",
      "12 1 0.03882600021825522\n",
      "12 2 -0.13120079458330566\n",
      "12 3 -0.18590655430191827\n",
      "12 4 -0.12764027215290893\n",
      "12 5 0.007178330892599554\n",
      "12 6 0.0921560898109117\n",
      "12 7 -0.11776953104157951\n",
      "12 8 -0.07977128505312243\n",
      "12 9 0.16235192499659926\n",
      "12 10 -0.02386259817799464\n",
      "12 11 0.051224154219729645\n",
      "12 12 1.0\n",
      "12 13 0.2563975451637541\n",
      "12 14 0.17984176597428558\n",
      "13 0 -0.028116253036382658\n",
      "13 1 -0.1123980927873937\n",
      "13 2 -0.02178978063910908\n",
      "13 3 -0.039954413285257985\n",
      "13 4 0.06552711533166936\n",
      "13 5 -0.09405786445104868\n",
      "13 6 -0.01865549452009611\n",
      "13 7 0.058046207983901685\n",
      "13 8 -0.10856189346025152\n",
      "13 9 0.01237858520267772\n",
      "13 10 -0.042615384685418575\n",
      "13 11 0.03736429793666706\n",
      "13 12 0.25639754516375407\n",
      "13 13 1.0\n",
      "13 14 0.13126807560185436\n",
      "14 0 0.017296721392212132\n",
      "14 1 -0.19378275916554474\n",
      "14 2 0.04610753653323197\n",
      "14 3 0.029745592147597637\n",
      "14 4 -0.1261744586657969\n",
      "14 5 -0.1444604163181678\n",
      "14 6 0.050430148509463826\n",
      "14 7 0.08984299940304237\n",
      "14 8 0.024844732755001594\n",
      "14 9 0.08043733007616519\n",
      "14 10 -0.07085022827340008\n",
      "14 11 0.08388050163024172\n",
      "14 12 0.17984176597428558\n",
      "14 13 0.13126807560185438\n",
      "14 14 1.0\n"
     ]
    }
   ],
   "source": [
    "for i in range(Wd.shape[1]):\n",
    "    for j in range(Wd.shape[1]):\n",
    "        print(i, j, np.corrcoef(model.Wd[:,i], model.Wd[:,j])[0][1])"
   ]
  },
  {
   "cell_type": "code",
   "execution_count": null,
   "metadata": {},
   "outputs": [],
   "source": []
  }
 ],
 "metadata": {
  "kernelspec": {
   "display_name": "Python [conda env:kipoi-shared__envs__kipoi-py3-keras2]",
   "language": "python",
   "name": "conda-env-kipoi-shared__envs__kipoi-py3-keras2-py"
  },
  "language_info": {
   "codemirror_mode": {
    "name": "ipython",
    "version": 3
   },
   "file_extension": ".py",
   "mimetype": "text/x-python",
   "name": "python",
   "nbconvert_exporter": "python",
   "pygments_lexer": "ipython3",
   "version": "3.6.6"
  }
 },
 "nbformat": 4,
 "nbformat_minor": 2
}
