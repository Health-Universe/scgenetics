{
 "cells": [
  {
   "cell_type": "code",
   "execution_count": null,
   "metadata": {},
   "outputs": [],
   "source": [
    "import jointNMF\n",
    "import numpy as np\n",
    "from scipy import sparse\n",
    "from scipy import stats\n",
    "from sklearn.decomposition import NMF\n",
    "from sklearn.utils.extmath import safe_sparse_dot"
   ]
  }
 ],
 "metadata": {
  "kernelspec": {
   "display_name": "Python [conda env:kipoi-shared__envs__kipoi-py3-keras2]",
   "language": "python",
   "name": "conda-env-kipoi-shared__envs__kipoi-py3-keras2-py"
  },
  "language_info": {
   "codemirror_mode": {
    "name": "ipython",
    "version": 3
   },
   "file_extension": ".py",
   "mimetype": "text/x-python",
   "name": "python",
   "nbconvert_exporter": "python",
   "pygments_lexer": "ipython3",
   "version": "3.6.6"
  }
 },
 "nbformat": 4,
 "nbformat_minor": 2
}
