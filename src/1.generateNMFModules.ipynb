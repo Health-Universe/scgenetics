{
 "cells": [
  {
   "cell_type": "code",
   "execution_count": null,
   "metadata": {},
   "outputs": [],
   "source": [
    "import scanpy as sc\n",
    "import pegasus as pg\n",
    "from collections import Counter\n",
    "import numpy as np\n",
    "import pandas as pd\n",
    "from sklearn.decomposition import NMF"
   ]
  },
  {
   "cell_type": "code",
   "execution_count": null,
   "metadata": {},
   "outputs": [],
   "source": [
    "outdir='/ahg/regevdata/projects/scgwas/data/singlecell/modules/nmf/healthy'"
   ]
  },
  {
   "cell_type": "code",
   "execution_count": null,
   "metadata": {},
   "outputs": [],
   "source": [
    "scdatasets = {\n",
    "    'zheng_pbmc' : ('/ahg/regevdata/projects/scgwas/data/singlecell/blood/pbmc/pbmc-processed-annotated.h5ad', 'sample_id'),\n",
    "    'ICA_bonemarrow' : ('/ahg/regevdata/projects/scgwas/data/singlecell/blood/bonemarrow-processed-final.h5ad', 'donor_organism.provenance.document_id'),\n",
    "    'ICA_cordblood' : ('/ahg/regevdata/projects/scgwas/data/singlecell/blood/cordblood-processed-final.h5ad', 'donor_organism.provenance.document_id'),\n",
    "    'krasnow_pbmc' : ('/ahg/regevdata/projects/scgwas/data/singlecell/lung/krasnow/pbmc-processed-annotated.h5ad', 'patient'),\n",
    "    \n",
    "    'allen_brain' : ('/ahg/regevdata/projects/scgwas/data/singlecell/brain/allen/allenbraindata-processed.h5ad', 'external_donor_name_label'),\n",
    "    'alzheimers_brain' : ('/ahg/regevdata/projects/scgwas/data/singlecell/z_disease/alzheimers/healthy.h5ad', 'Subject'),\n",
    "    'rowitch_brain': ('/ahg/regevdata/projects/scgwas/data/singlecell/z_disease/multiplesclerosis/healthy-processed-annotated.h5ad', 'sample'),\n",
    "\n",
    "    'kropski_lung' : ('/ahg/regevdata/projects/scgwas/data/singlecell/lung/healthykropski-annotated.h5ad', 'Sample_Name'),\n",
    "    'krasnow_lung' : ('/ahg/regevdata/projects/scgwas/data/singlecell/lung/krasnow/lung-processed-annotated.h5ad', 'patient'),\n",
    "\n",
    "    'heart' : ('/ahg/regevdata/projects/scgwas/data/singlecell/heart/heart-processed.h5ad', 'biological.individual'),\n",
    "    \n",
    "    'skin':('/ahg/regevdata/projects/scgwas/data/singlecell/skin/healthypublicskindata-processed.h5ad', 'sample'),\n",
    "\n",
    "    'xavier_colon' : ('/ahg/regevdata/projects/scgwas/data/singlecell/modules/nmf/healthy_colon.h5ad', 'subject'),\n",
    "    'xavier_ens' : ('/ahg/regevdata/projects/scgwas/data/singlecell/ens/ensdata-processed-annotated.h5ad', 'Patient_ID'),\n",
    "    \n",
    "    'adipose' : ('/ahg/regevdata/projects/scgwas/data/singlecell/adipose/adipose-processed-final.h5ad', 'orig.ident'),\n",
    "    'liver' : ('/ahg/regevdata/projects/scgwas/data/singlecell/liver/liver-processed-final.h5ad', 'orig.ident'),\n",
    "    'kidney' : ('/ahg/regevdata/projects/scgwas/data/singlecell/kidney/kidneyadata-processed.h5ad', 'Experiment'),\n",
    "    \n",
    "    'idoamit_healthy' : ('/ahg/regevdata/projects/scgwas/data/singlecell/z_disease/covid/covid-healthy.h5ad', 'sample'),\n",
    "}"
   ]
  },
  {
   "cell_type": "code",
   "execution_count": null,
   "metadata": {},
   "outputs": [],
   "source": [
    "for tissue in scdatasets.keys():\n",
    "    print(tissue)\n",
    "    filename, sample_label = scdatasets[tissue]\n",
    "    tissueadata = sc.read(filename)\n",
    "    print(tissueadata.shape)\n",
    "    num_celltypes = len(set(tissueadata.obs['annot_level_2']))\n",
    "    model = NMF(n_components=num_celltypes+10, init='random', random_state=0)\n",
    "    tissueadata = tissueadata[:,tissueadata.var['highly_variable']]\n",
    "    X = tissueadata.layers['counts']\n",
    "    X = X/np.max(X)\n",
    "    W = model.fit_transform(X)\n",
    "    W = pd.DataFrame(W, index = tissueadata.obs_names, columns = ['NMF_%d'%i for i in range(W.shape[1])])\n",
    "    W.to_csv(outdir + '/%s'%tissue+'_cellprograms.csv')\n",
    "    H = pd.DataFrame(model.components_.T, index=tissueadata.var_names, columns=['NMF_%d'%i for i in range(model.components_.shape[0])])\n",
    "    H.to_csv(outdir + '/%s'%tissue+'_geneprograms.csv')"
   ]
  },
  {
   "cell_type": "code",
   "execution_count": null,
   "metadata": {},
   "outputs": [],
   "source": [
    "import scipy"
   ]
  },
  {
   "cell_type": "code",
   "execution_count": null,
   "metadata": {},
   "outputs": [],
   "source": [
    "for tissue in scdatasets.keys():\n",
    "    print(tissue)\n",
    "    filename, sample_label = scdatasets[tissue]\n",
    "    tissueadata = sc.read(filename)\n",
    "    W = pd.read_csv('/ahg/regevdata/projects/scgwas/data/singlecell/modules/nmf/healthy/%s_cellprograms.csv'%tissue)\n",
    "    W = W.set_index(W.columns[0])\n",
    "\n",
    "    for i in range(W.shape[1]):\n",
    "        tissueadata.obs['NMF_%d'%i] = W['NMF_%d'%i]\n",
    "    sc.pl.umap(tissueadata, color=['NMF_%d'%i for i in range(W.shape[1])], color_map='Reds', save=tissue+'_healthyprograms.pdf')\n",
    "    sc.pl.umap(tissueadata, color=['annot_level_2'], ncols=1, save=tissue+'_healthy.pdf')"
   ]
  },
  {
   "cell_type": "code",
   "execution_count": null,
   "metadata": {},
   "outputs": [],
   "source": [
    "from scipy.sparse import rand as r1\n",
    "from numpy.random import rand as r2\n",
    "\n",
    "for tissue in scdatasets.keys():\n",
    "    print(tissue)\n",
    "    filename, sample_label = scdatasets[tissue]\n",
    "    tissueadata = sc.read(filename)\n",
    "    W = pd.read_csv(outdir + '/%s_cellprograms.csv'%tissue)\n",
    "    W = W.set_index(W.columns[0])\n",
    "\n",
    "    for i in range(W.shape[1]):\n",
    "        tissueadata.obs['NMF_%d'%i] = W['NMF_%d'%i]\n",
    "    sc.pl.umap(tissueadata, color=['NMF_%d'%i for i in range(W.shape[1])]+['annot_level_2'], \n",
    "                   color_map='Reds', save=tissue+'_healthy.png')\n",
    "    \n",
    "    tissueadata = tissueadata[:, np.array((tissueadata.X.sum(axis=0) > 0))]\n",
    "    x = scipy.sparse.csc_matrix(tissueadata.X)\n",
    "    #x = x[:,0:-6]\n",
    "    nrow,ncol = x.shape\n",
    "    correlations = []\n",
    "    for i in range(W.shape[1]):\n",
    "        y = W['NMF_%d'%i].values\n",
    "        yy = y - y.mean()\n",
    "        xm = x.mean(axis=0).A.ravel()\n",
    "        ys = yy / np.sqrt(np.dot(yy, yy))\n",
    "        xs = np.sqrt(np.add.reduceat(x.data**2, x.indptr[:-1]) - nrow*xm*xm)\n",
    "\n",
    "        correl2 = np.add.reduceat(x.data * ys[x.indices], x.indptr[:-1]) / xs\n",
    "        correlations.append(correl2)\n",
    "    corr = pd.DataFrame(np.vstack(correlations).T, columns=W.columns, index=tissueadata.var_names)\n",
    "    corr.to_csv(outdir + '/%s_correlation_cellprograms.csv'%tissue)\n"
   ]
  },
  {
   "cell_type": "code",
   "execution_count": null,
   "metadata": {},
   "outputs": [],
   "source": [
    "import seaborn as sns"
   ]
  },
  {
   "cell_type": "code",
   "execution_count": null,
   "metadata": {},
   "outputs": [],
   "source": [
    "for tissue in scdatasets.keys():\n",
    "    filename, sample_label = scdatasets[tissue]\n",
    "    adata = sc.read(filename)\n",
    "    W = pd.read_csv(outdir + '/%s_cellprograms.csv'%tissue)\n",
    "    print(tissue, W.shape)\n",
    "    W = W.set_index(W.columns[0])\n",
    "    W = W/W.quantile(0.99, axis=0)\n",
    "    W = W.clip(0,1)\n",
    "    \n",
    "    for i in range(W.shape[1]):\n",
    "        adata.obs['NMF_%d'%i] = W['NMF_%d'%i]\n",
    "    sc.pl.umap(adata, color=['NMF_%d'%i for i in range(W.shape[1])], color_map='Reds')\n",
    "    sc.pl.umap(adata, color=['annot_level_2', 'annot_level_3'], ncols=1)\n",
    "    \n",
    "    \n",
    "    topicdata = sc.AnnData(W.values)\n",
    "    topicdata.obs_names = W.index\n",
    "    topicdata.var_names = W.columns\n",
    "    topicdata.obs['celltypes'] = adata.obs['annot_level_2']\n",
    "    \n",
    "    sc.pl.matrixplot(topicdata, var_names=topicdata.var_names, groupby='celltypes', standard_scale='var', )\n",
    "    \n",
    "    W['celltype'] = adata.obs['annot_level_3']\n",
    "    \n",
    "    \n",
    "    W = W.groupby('celltype').agg('mean')\n",
    "    \n",
    "    nmf_specificity = (W > .3).sum(0)\n",
    "    display(W)\n",
    "    for i in range(W.shape[0]):\n",
    "        for j in range(W.shape[1]):\n",
    "            if W.values[i,j] > .65 and nmf_specificity[j]==1:\n",
    "                print(W.index[i], W.columns[j])\n",
    "    \n",
    "    H2 = pd.read_csv(outdir + '/%s_geneprograms.csv'%tissue)\n",
    "    H2 = H2.set_index(H2.columns[0])\n",
    "    \n",
    "    \n",
    "    H = pd.read_csv(outdir + '/%s_correlation_cellprograms.csv'%tissue)\n",
    "    H = H.set_index(H.columns[0])\n",
    "    print(H.shape)\n",
    "    for i in range(H.shape[1]):\n",
    "        print(i)\n",
    "        print(\",\".join(H.sort_values(by='NMF_%d'%i, ascending=False).index[0:50]))\n",
    "        print(\",\".join(H2.sort_values(by='NMF_%d'%i, ascending=False).index[0:50]))\n",
    "        \n",
    "        print(len(set(H2.sort_values(by='NMF_%d'%i, ascending=False).index[0:500]).intersection(H.sort_values(by='NMF_%d'%i, ascending=False).index[0:500])))"
   ]
  },
  {
   "cell_type": "code",
   "execution_count": null,
   "metadata": {},
   "outputs": [],
   "source": []
  }
 ],
 "metadata": {
  "kernelspec": {
   "display_name": "Python (pegasus)",
   "language": "python",
   "name": "pegasus"
  },
  "language_info": {
   "codemirror_mode": {
    "name": "ipython",
    "version": 3
   },
   "file_extension": ".py",
   "mimetype": "text/x-python",
   "name": "python",
   "nbconvert_exporter": "python",
   "pygments_lexer": "ipython3",
   "version": "3.8.0"
  }
 },
 "nbformat": 4,
 "nbformat_minor": 2
}
